{
  "nbformat": 4,
  "nbformat_minor": 0,
  "metadata": {
    "colab": {
      "name": "ML DNN classifier for detection fault location (Accuracy, Pd, Pmd, Pfa)",
      "provenance": [],
      "collapsed_sections": [],
      "authorship_tag": "ABX9TyNO7PXVnSq6UIVmhAopstIp",
      "include_colab_link": true
    },
    "kernelspec": {
      "name": "python3",
      "display_name": "Python 3"
    }
  },
  "cells": [
    {
      "cell_type": "markdown",
      "metadata": {
        "id": "view-in-github",
        "colab_type": "text"
      },
      "source": [
        "<a href=\"https://colab.research.google.com/github/zakaria-grid/ML-GridPack/blob/master/ML_DNN_classifier_for_detection_fault_location_(Accuracy%2C_Pd%2C_Pmd%2C_Pfa).ipynb\" target=\"_parent\"><img src=\"https://colab.research.google.com/assets/colab-badge.svg\" alt=\"Open In Colab\"/></a>"
      ]
    },
    {
      "cell_type": "code",
      "metadata": {
        "id": "qDoduNSxDKf9",
        "colab_type": "code",
        "outputId": "df3130fc-6e5d-4d09-a717-1239f9625960",
        "colab": {
          "base_uri": "https://localhost:8080/",
          "height": 71
        }
      },
      "source": [
        "import tensorflow as tf\n",
        "import numpy as np\n",
        "import pandas\n",
        "from keras.models import Sequential\n",
        "from keras.layers import Dense\n",
        "from keras.wrappers.scikit_learn import KerasClassifier\n",
        "from keras.utils import np_utils\n",
        "from sklearn.model_selection import cross_val_score, KFold, train_test_split, learning_curve\n",
        "from sklearn.preprocessing import LabelEncoder\n",
        "from sklearn.pipeline import Pipeline\n",
        "from google.colab import drive\n",
        "import seaborn as sns \n",
        "import matplotlib.pyplot as plt\n",
        "from sklearn.metrics import classification_report,multilabel_confusion_matrix,confusion_matrix,accuracy_score, mean_squared_error, explained_variance_score, make_scorer, mean_absolute_error, r2_score\n",
        "from sklearn.neural_network import MLPClassifier\n",
        "from keras.models import Sequential\n",
        "from keras.layers import Dense\n",
        "from keras.wrappers.scikit_learn import KerasRegressor\n",
        "from keras.utils import np_utils\n",
        "from sklearn.neighbors import KNeighborsClassifier \n",
        "from sklearn.svm import SVC\n",
        "from sklearn import linear_model\n",
        "from sklearn.tree import DecisionTreeClassifier\n",
        "from sklearn.ensemble import RandomForestClassifier\n",
        "from sklearn.naive_bayes import GaussianNB\n",
        "\n",
        "drive.mount('/content/gdrive')\n",
        "%cd '/content/gdrive/My Drive/GridPack_Dataset'"
      ],
      "execution_count": 2,
      "outputs": [
        {
          "output_type": "stream",
          "text": [
            "Drive already mounted at /content/gdrive; to attempt to forcibly remount, call drive.mount(\"/content/gdrive\", force_remount=True).\n",
            "/content/gdrive/My Drive/GridPack_Dataset\n"
          ],
          "name": "stdout"
        }
      ]
    },
    {
      "cell_type": "code",
      "metadata": {
        "id": "IiExBULvDb01",
        "colab_type": "code",
        "colab": {}
      },
      "source": [
        "dataframe = pandas.read_csv(\"all_buses_bf_9_99_999_classification.csv\")\n",
        "\n",
        "\n",
        "dataset = dataframe.values\n",
        "X = dataset[2:,1:22].astype(float)\n",
        "y = dataset[2:,22]\n",
        "\n",
        "#Split the data into trining and testing parts\n",
        "from sklearn.model_selection import train_test_split\n",
        "X_train, X_test, y_train, y_test = train_test_split(X, y, test_size=0.3)"
      ],
      "execution_count": 0,
      "outputs": []
    },
    {
      "cell_type": "code",
      "metadata": {
        "id": "ye--BDEPDeJw",
        "colab_type": "code",
        "outputId": "66754cd5-5145-45f3-e150-d2e09ad0cb49",
        "colab": {
          "base_uri": "https://localhost:8080/",
          "height": 85
        }
      },
      "source": [
        "# Neural Network (MLP)\n",
        "\n",
        "nn=MLPClassifier(max_iter=1000, activation='relu').fit(X_train,y_train)\n",
        "nn_prediction = nn.predict(X_test)\n",
        "accuracy_nn=accuracy_score(y_test,nn_prediction)\n",
        "print(\"Accuracy (%): \"+str(accuracy_nn)) \n",
        "\n",
        "nn_2=MLPClassifier(max_iter=1000, activation='tanh').fit(X_train,y_train)\n",
        "nn_prediction2 = nn_2.predict(X_test)\n",
        "accuracy_nn_2=accuracy_score(y_test,nn_prediction2)\n",
        "print(\"Accuracy (%) \"+str(accuracy_nn_2)) \n",
        "\n",
        "#confusion matrix and TP, FP, FN, FP\n",
        "\n",
        "\n",
        "cnf_matrix = confusion_matrix(y_test, nn_prediction)\n",
        "\n",
        "FP = cnf_matrix.sum(axis=0) - np.diag(cnf_matrix)  \n",
        "FN = cnf_matrix.sum(axis=1) - np.diag(cnf_matrix)\n",
        "TP = np.diag(cnf_matrix)\n",
        "TN = cnf_matrix.sum() - (FP + FN + TP)\n",
        "\n",
        "FP = FP.astype(float)\n",
        "FN = FN.astype(float)\n",
        "TP = TP.astype(float)\n",
        "TN = TN.astype(float)\n",
        "\n",
        "# Sensitivity, hit rate, recall, or true positive rate\n",
        "TPR = TP/(TP+FN)\n",
        "print(TPR)\n",
        "# Specificity or true negative rate\n",
        "TNR = TN/(TN+FP) \n",
        "# Precision or positive predictive value\n",
        "PPV = TP/(TP+FP)\n",
        "# Negative predictive value\n",
        "NPV = TN/(TN+FN)\n",
        "# Fall out or false positive rate\n",
        "FPR = FP/(FP+TN)\n",
        "# False negative rate\n",
        "FNR = FN/(TP+FN)\n",
        "# False discovery rate\n",
        "FDR = FP/(TP+FP)\n",
        "# Overall accuracy\n",
        "ACC_nn = (TP+TN)/(TP+FP+FN+TN)\n",
        "\n",
        "\n",
        "pmd_nn=FN/(TP+FN)\n",
        "\n",
        "pd_nn=TP/(TP+FN)\n",
        "\n",
        "pf_nn=FP/(FP+TN)\n"
      ],
      "execution_count": 0,
      "outputs": [
        {
          "output_type": "stream",
          "text": [
            "Accuracy (%): 0.8351073591484676\n",
            "Accuracy (%) 0.7708753899798129\n",
            "[0.88255977 0.89150943 0.87110789 0.77980853 0.81682028 0.86015831\n",
            " 0.82685811 0.63231441 0.91666667]\n"
          ],
          "name": "stdout"
        }
      ]
    },
    {
      "cell_type": "code",
      "metadata": {
        "id": "WVP5d-CDztqM",
        "colab_type": "code",
        "outputId": "c82e835d-57b0-4e53-ba86-596856ab2b75",
        "colab": {
          "base_uri": "https://localhost:8080/",
          "height": 170
        }
      },
      "source": [
        "cnf_matrix"
      ],
      "execution_count": 0,
      "outputs": [
        {
          "output_type": "execute_result",
          "data": {
            "text/plain": [
              "array([[1255,    1,    2,  147,    0,    3,    4,    0,   10],\n",
              "       [   0, 1323,    0,    2,    1,    1,   23,  131,    3],\n",
              "       [   5,    0, 1203,    1,    0,  167,    2,    1,    2],\n",
              "       [ 150,    1,    1,  896,   12,    4,    2,    0,   83],\n",
              "       [  14,    7,    1,   48,  709,    8,    0,    0,   81],\n",
              "       [  15,    0,   84,    0,   11,  978,   30,    5,   14],\n",
              "       [   6,   15,   14,    4,    0,   29,  979,   97,   40],\n",
              "       [   1,  311,    0,    0,    1,    5,   70,  724,   33],\n",
              "       [  25,    4,    0,   40,    2,   13,    6,    4, 1034]])"
            ]
          },
          "metadata": {
            "tags": []
          },
          "execution_count": 4
        }
      ]
    },
    {
      "cell_type": "code",
      "metadata": {
        "id": "pKPWmjw7HeuQ",
        "colab_type": "code",
        "outputId": "872a4c74-62f9-4b18-e1e4-7585cd626fb8",
        "colab": {
          "base_uri": "https://localhost:8080/",
          "height": 1000
        }
      },
      "source": [
        "buses = ('Bus1', 'Bus2', 'Bus3', 'Bus4', 'Bus4','Bus5','Bus6','Bus7','Bus8','Bus9')\n",
        "y_pos = np.arange(len(buses)-1)\n",
        "fig = plt.figure()\n",
        "\n",
        "ACC_nn_results = [j *100 for j in ACC_nn]\n",
        "pmd_nn_results=[j *100 for j in pmd_nn]\n",
        "pd_nn_results=[j *100 for j in pd_nn]\n",
        "pf_nn_results=[j *100 for j in pf_nn]\n",
        "\n",
        "fig = plt.figure()\n",
        "fig.subplots_adjust( right=3, top=1)\n",
        "ax = fig.add_subplot(1, 3, 1)\n",
        "ax.bar(y_pos, ACC_nn_results, align='center', alpha=0.8, color='b')\n",
        "ax.set_xticks(np.arange(len(buses)))\n",
        "ax.set_xticklabels(('Bus1', 'Bus2', 'Bus3', 'Bus4','Bus5','Bus6','Bus7','Bus8','Bus9'), minor=False)\n",
        "ax.set_ylabel('Accuracy (%)')\n",
        "ax.set_title('Neural Network')\n",
        "\n",
        "fig = plt.figure()\n",
        "fig.subplots_adjust( right=3, top=1)\n",
        "ax = fig.add_subplot(1, 3, 1)\n",
        "ax.bar(y_pos, pd_nn_results, align='center', alpha=0.8, color='orange')\n",
        "ax.set_xticks(np.arange(len(buses)))\n",
        "ax.set_xticklabels(('Bus1', 'Bus2', 'Bus3', 'Bus4','Bus5','Bus6','Bus7','Bus8','Bus9'), minor=False)\n",
        "ax.set_ylabel('Probability of detection (%)')\n",
        "ax.set_title('Neural Network')\n",
        "\n",
        "\n",
        "fig = plt.figure()\n",
        "fig.subplots_adjust( right=3, top=1)\n",
        "ax = fig.add_subplot(1, 3, 1)\n",
        "ax.bar(y_pos, pmd_nn_results, align='center', alpha=0.8, color='y')\n",
        "ax.set_xticks(np.arange(len(buses)))\n",
        "ax.set_xticklabels(('Bus1', 'Bus2', 'Bus3', 'Bus4','Bus5','Bus6','Bus7','Bus8','Bus9'), minor=False)\n",
        "ax.set_ylabel('Probability of miss detection (%)')\n",
        "ax.set_title('Neural Network')\n",
        "\n",
        "fig = plt.figure()\n",
        "fig.subplots_adjust( right=3, top=1)\n",
        "ax = fig.add_subplot(1, 3, 1)\n",
        "ax.bar(y_pos, pf_nn_results, align='center', alpha=0.8, color='g')\n",
        "ax.set_xticks(np.arange(len(buses)))\n",
        "ax.set_xticklabels(('Bus1', 'Bus2', 'Bus3', 'Bus4','Bus5','Bus6','Bus7','Bus8','Bus9'), minor=False)\n",
        "ax.set_ylabel('Probability of false alarm (%)')\n",
        "ax.set_title('Neural Network')"
      ],
      "execution_count": 0,
      "outputs": [
        {
          "output_type": "execute_result",
          "data": {
            "text/plain": [
              "Text(0.5, 1.0, 'Neural Network')"
            ]
          },
          "metadata": {
            "tags": []
          },
          "execution_count": 16
        },
        {
          "output_type": "display_data",
          "data": {
            "text/plain": [
              "<Figure size 432x288 with 0 Axes>"
            ]
          },
          "metadata": {
            "tags": []
          }
        },
        {
          "output_type": "display_data",
          "data": {
            "image/png": "[encoded data removed]",
            "text/plain": [
              "<Figure size 432x288 with 1 Axes>"
            ]
          },
          "metadata": {
            "tags": []
          }
        },
        {
          "output_type": "display_data",
          "data": {
            "image/png": "[encoded data removed]",
            "text/plain": [
              "<Figure size 432x288 with 1 Axes>"
            ]
          },
          "metadata": {
            "tags": []
          }
        },
        {
          "output_type": "display_data",
          "data": {
            "image/png": "[encoded data removed]",
            "text/plain": [
              "<Figure size 432x288 with 1 Axes>"
            ]
          },
          "metadata": {
            "tags": []
          }
        },
        {
          "output_type": "display_data",
          "data": {
            "image/png": "[encoded data removed]",
            "text/plain": [
              "<Figure size 432x288 with 1 Axes>"
            ]
          },
          "metadata": {
            "tags": []
          }
        }
      ]
    },
    {
      "cell_type": "code",
      "metadata": {
        "id": "7LTWBTizHeB6",
        "colab_type": "code",
        "colab": {
          "base_uri": "https://localhost:8080/",
          "height": 644
        },
        "outputId": "8d97fcb0-0036-4068-b87c-47d247799d79"
      },
      "source": [
        "from keras.models import Sequential\n",
        "from keras.layers import Dense\n",
        "from keras.wrappers.scikit_learn import KerasClassifier\n",
        "from keras.utils import np_utils\n",
        "from sklearn.model_selection import cross_val_score\n",
        "from sklearn.model_selection import KFold\n",
        "from sklearn.preprocessing import LabelEncoder\n",
        "from sklearn.pipeline import Pipeline\n",
        "#prepare dataset \n",
        "\n",
        "prepared_y = np_utils.to_categorical(y)\n",
        "\n",
        "\n",
        "#DNN \n",
        "\n",
        "def dnn_model():\n",
        "  model = Sequential()\n",
        "  model.add(Dense(21, input_dim=21, kernel_initializer='normal', activation='relu'))\n",
        "  model.add(Dense(50, kernel_initializer='normal', activation='relu'))\n",
        "  model.add(Dense(50, kernel_initializer='normal', activation='relu'))\n",
        "  model.add(Dense(50, kernel_initializer='normal', activation='relu'))\n",
        "  model.add(Dense(10, activation='softmax'))\n",
        "  model.compile(loss='categorical_crossentropy', optimizer='adam', metrics=['accuracy'])\n",
        "  return model\n",
        "\n",
        "\n",
        "estimator = KerasClassifier(build_fn=dnn_model, epochs=200, batch_size=5, verbose=0)\n",
        "kfold = KFold(n_splits=2, shuffle=False)\n",
        "results = cross_val_score(estimator, X, prepared_y, cv=kfold)\n",
        "print(\"DNN: %.2f%% (%.2f%%)\" % (results.mean()*100, results.std()*100))\n"
      ],
      "execution_count": 4,
      "outputs": [
        {
          "output_type": "stream",
          "text": [
            "WARNING:tensorflow:From /usr/local/lib/python3.6/dist-packages/keras/backend/tensorflow_backend.py:66: The name tf.get_default_graph is deprecated. Please use tf.compat.v1.get_default_graph instead.\n",
            "\n",
            "WARNING:tensorflow:From /usr/local/lib/python3.6/dist-packages/keras/backend/tensorflow_backend.py:541: The name tf.placeholder is deprecated. Please use tf.compat.v1.placeholder instead.\n",
            "\n",
            "WARNING:tensorflow:From /usr/local/lib/python3.6/dist-packages/keras/backend/tensorflow_backend.py:4409: The name tf.random_normal is deprecated. Please use tf.random.normal instead.\n",
            "\n",
            "WARNING:tensorflow:From /usr/local/lib/python3.6/dist-packages/keras/backend/tensorflow_backend.py:4432: The name tf.random_uniform is deprecated. Please use tf.random.uniform instead.\n",
            "\n",
            "WARNING:tensorflow:From /usr/local/lib/python3.6/dist-packages/keras/optimizers.py:793: The name tf.train.Optimizer is deprecated. Please use tf.compat.v1.train.Optimizer instead.\n",
            "\n",
            "WARNING:tensorflow:From /usr/local/lib/python3.6/dist-packages/keras/backend/tensorflow_backend.py:3576: The name tf.log is deprecated. Please use tf.math.log instead.\n",
            "\n",
            "WARNING:tensorflow:From /usr/local/lib/python3.6/dist-packages/tensorflow_core/python/ops/math_grad.py:1424: where (from tensorflow.python.ops.array_ops) is deprecated and will be removed in a future version.\n",
            "Instructions for updating:\n",
            "Use tf.where in 2.0, which has the same broadcast rule as np.where\n",
            "WARNING:tensorflow:From /usr/local/lib/python3.6/dist-packages/keras/backend/tensorflow_backend.py:1033: The name tf.assign_add is deprecated. Please use tf.compat.v1.assign_add instead.\n",
            "\n",
            "WARNING:tensorflow:From /usr/local/lib/python3.6/dist-packages/keras/backend/tensorflow_backend.py:1020: The name tf.assign is deprecated. Please use tf.compat.v1.assign instead.\n",
            "\n",
            "WARNING:tensorflow:From /usr/local/lib/python3.6/dist-packages/keras/backend/tensorflow_backend.py:3005: The name tf.Session is deprecated. Please use tf.compat.v1.Session instead.\n",
            "\n",
            "WARNING:tensorflow:From /usr/local/lib/python3.6/dist-packages/keras/backend/tensorflow_backend.py:190: The name tf.get_default_session is deprecated. Please use tf.compat.v1.get_default_session instead.\n",
            "\n",
            "WARNING:tensorflow:From /usr/local/lib/python3.6/dist-packages/keras/backend/tensorflow_backend.py:197: The name tf.ConfigProto is deprecated. Please use tf.compat.v1.ConfigProto instead.\n",
            "\n",
            "WARNING:tensorflow:From /usr/local/lib/python3.6/dist-packages/keras/backend/tensorflow_backend.py:207: The name tf.global_variables is deprecated. Please use tf.compat.v1.global_variables instead.\n",
            "\n",
            "WARNING:tensorflow:From /usr/local/lib/python3.6/dist-packages/keras/backend/tensorflow_backend.py:216: The name tf.is_variable_initialized is deprecated. Please use tf.compat.v1.is_variable_initialized instead.\n",
            "\n",
            "WARNING:tensorflow:From /usr/local/lib/python3.6/dist-packages/keras/backend/tensorflow_backend.py:223: The name tf.variables_initializer is deprecated. Please use tf.compat.v1.variables_initializer instead.\n",
            "\n",
            "DNN: 54.48% (0.59%)\n"
          ],
          "name": "stdout"
        }
      ]
    },
    {
      "cell_type": "code",
      "metadata": {
        "id": "1-UPYdA7eQ3r",
        "colab_type": "code",
        "colab": {}
      },
      "source": [
        "\n",
        "model = Sequential()\n",
        "model.add(Dense(21, input_dim=21, kernel_initializer='normal', activation='relu'))\n",
        "model.add(Dense(50, kernel_initializer='normal', activation='relu'))\n",
        "model.add(Dense(50, kernel_initializer='normal', activation='relu'))\n",
        "model.add(Dense(50, kernel_initializer='normal', activation='relu'))\n",
        "model.add(Dense(50, kernel_initializer='normal', activation='relu'))\n",
        "model.add(Dense(50, kernel_initializer='normal', activation='relu'))\n",
        "model.add(Dense(50, kernel_initializer='normal', activation='relu'))\n",
        "model.add(Dense(50, kernel_initializer='normal', activation='relu'))\n",
        "model.add(Dense(10, kernel_initializer='normal'))\n",
        "model.compile(loss='categorical_crossentropy', optimizer='adam', metrics=['accuracy'])\n",
        "model.fit(X_train, y_train, validation_data=(X_test, y_test), epochs=150, verbose=0)\n",
        "dnn_prediction=model.predict(X_test)"
      ],
      "execution_count": 0,
      "outputs": []
    },
    {
      "cell_type": "code",
      "metadata": {
        "id": "qAIe-2OgjPOg",
        "colab_type": "code",
        "colab": {
          "base_uri": "https://localhost:8080/",
          "height": 34
        },
        "outputId": "0ea08c40-d607-4054-8235-91c97f2d2c8c"
      },
      "source": [
        "import joblib \n",
        "import os\n",
        "#Save the dnn model \n",
        "dnn_model_4 = 'dnn_model_4.sav'\n",
        "joblib.dump(model, dnn_model_4)\n",
        "size=os.path.getsize(dnn_model_4)\n",
        "print (str(size)+\" Bytes\")"
      ],
      "execution_count": 25,
      "outputs": [
        {
          "output_type": "stream",
          "text": [
            "133477 Bytes\n"
          ],
          "name": "stdout"
        }
      ]
    },
    {
      "cell_type": "code",
      "metadata": {
        "id": "F5uT6moEmY2a",
        "colab_type": "code",
        "colab": {}
      },
      "source": [
        "dnn_predicted=np.argmax(dnn_prediction,axis=0)\n",
        "y_test_predicted=np.argmax(y_test,axis=0)"
      ],
      "execution_count": 0,
      "outputs": []
    },
    {
      "cell_type": "code",
      "metadata": {
        "id": "NiBjxziRfUV3",
        "colab_type": "code",
        "colab": {}
      },
      "source": [
        "cnf_matrix = confusion_matrix(dnn_predicted, y_test_predicted)"
      ],
      "execution_count": 0,
      "outputs": []
    },
    {
      "cell_type": "code",
      "metadata": {
        "id": "rp5MVWJilpon",
        "colab_type": "code",
        "outputId": "95700cb7-b1bf-43ab-cce7-1b0f1274e8a6",
        "colab": {
          "base_uri": "https://localhost:8080/",
          "height": 272
        }
      },
      "source": [
        "cnf_matrix"
      ],
      "execution_count": 102,
      "outputs": [
        {
          "output_type": "execute_result",
          "data": {
            "text/plain": [
              "array([[0, 0, 0, 0, 0, 0, 0, 0, 0, 0, 0, 0, 0, 0, 0],\n",
              "       [0, 0, 0, 0, 0, 0, 0, 0, 0, 0, 0, 0, 0, 0, 0],\n",
              "       [0, 0, 0, 0, 0, 0, 0, 0, 0, 0, 0, 0, 0, 0, 0],\n",
              "       [0, 0, 0, 0, 0, 0, 0, 0, 0, 0, 0, 0, 0, 0, 0],\n",
              "       [0, 0, 0, 0, 0, 0, 0, 0, 0, 0, 0, 0, 0, 0, 0],\n",
              "       [0, 0, 0, 0, 0, 0, 0, 0, 0, 0, 0, 0, 0, 0, 0],\n",
              "       [0, 0, 0, 0, 0, 0, 0, 0, 0, 0, 0, 0, 0, 0, 0],\n",
              "       [0, 0, 0, 0, 0, 0, 0, 0, 0, 0, 0, 0, 0, 0, 0],\n",
              "       [0, 0, 0, 0, 0, 0, 0, 0, 0, 0, 0, 0, 0, 0, 0],\n",
              "       [0, 0, 0, 0, 0, 0, 0, 0, 1, 0, 0, 0, 0, 0, 0],\n",
              "       [1, 1, 0, 0, 1, 1, 0, 0, 0, 0, 0, 0, 0, 0, 0],\n",
              "       [1, 0, 0, 1, 0, 0, 0, 0, 0, 0, 0, 0, 0, 0, 0],\n",
              "       [0, 0, 0, 0, 0, 0, 1, 0, 0, 0, 0, 0, 0, 0, 0],\n",
              "       [0, 0, 1, 0, 0, 0, 0, 0, 0, 0, 0, 0, 0, 0, 0],\n",
              "       [0, 0, 0, 0, 0, 0, 0, 1, 0, 0, 0, 0, 0, 0, 0]])"
            ]
          },
          "metadata": {
            "tags": []
          },
          "execution_count": 102
        }
      ]
    },
    {
      "cell_type": "code",
      "metadata": {
        "id": "8F3JWAWMqCqO",
        "colab_type": "code",
        "colab": {}
      },
      "source": [
        "y_train = np_utils.to_categorical(y_train)\n",
        "y_test = np_utils.to_categorical(y_test)"
      ],
      "execution_count": 0,
      "outputs": []
    },
    {
      "cell_type": "code",
      "metadata": {
        "id": "OGDpNunzmlqg",
        "colab_type": "code",
        "outputId": "96b3f3cf-91f7-46c6-d831-40c47f402975",
        "colab": {
          "base_uri": "https://localhost:8080/",
          "height": 136
        }
      },
      "source": [
        "\n",
        "FP = cnf_matrix.sum(axis=0) - np.diag(cnf_matrix)  \n",
        "FN = cnf_matrix.sum(axis=1) - np.diag(cnf_matrix)\n",
        "TP = np.diag(cnf_matrix)\n",
        "TN = cnf_matrix.sum() - (FP + FN + TP)\n",
        "\n",
        "FP = FP.astype(float)\n",
        "FN = FN.astype(float)\n",
        "TP = TP.astype(float)\n",
        "TN = TN.astype(float)\n",
        "\n",
        "# Sensitivity, hit rate, recall, or true positive rate\n",
        "TPR = TP/(TP+FN)\n",
        "# Specificity or true negative rate\n",
        "TNR = TN/(TN+FP) \n",
        "# Precision or positive predictive value\n",
        "PPV = TP/(TP+FP)\n",
        "# Negative predictive value\n",
        "NPV = TN/(TN+FN)\n",
        "# Fall out or false positive rate\n",
        "FPR = FP/(FP+TN)\n",
        "# False negative rate\n",
        "FNR = FN/(TP+FN)\n",
        "# False discovery rate\n",
        "FDR = FP/(TP+FP) \n",
        "# Overall accuracy\n",
        "ACC_dnn = (TP+TN)/(TP+FP+FN+TN)\n",
        "\n",
        "\n",
        "pmd_dnn=FN/(TP+FN)\n",
        "\n",
        "pd_dnn=TP/(TP+FN)\n",
        "\n",
        "pf_dnn=FP/(FP+TN)"
      ],
      "execution_count": 103,
      "outputs": [
        {
          "output_type": "stream",
          "text": [
            "/usr/local/lib/python3.6/dist-packages/ipykernel_launcher.py:13: RuntimeWarning: invalid value encountered in true_divide\n",
            "  del sys.path[0]\n",
            "/usr/local/lib/python3.6/dist-packages/ipykernel_launcher.py:17: RuntimeWarning: invalid value encountered in true_divide\n",
            "/usr/local/lib/python3.6/dist-packages/ipykernel_launcher.py:23: RuntimeWarning: invalid value encountered in true_divide\n",
            "/usr/local/lib/python3.6/dist-packages/ipykernel_launcher.py:25: RuntimeWarning: invalid value encountered in true_divide\n",
            "/usr/local/lib/python3.6/dist-packages/ipykernel_launcher.py:30: RuntimeWarning: invalid value encountered in true_divide\n",
            "/usr/local/lib/python3.6/dist-packages/ipykernel_launcher.py:32: RuntimeWarning: invalid value encountered in true_divide\n"
          ],
          "name": "stderr"
        }
      ]
    },
    {
      "cell_type": "code",
      "metadata": {
        "id": "P1Nn-NpBS7h0",
        "colab_type": "code",
        "outputId": "31efaecd-faca-4d11-a127-aabcef980cee",
        "colab": {
          "base_uri": "https://localhost:8080/",
          "height": 713
        }
      },
      "source": [
        "buses = ('Bus1', 'Bus2', 'Bus3', 'Bus4', 'Bus4','Bus5','Bus6','Bus7','Bus8','Bus9')\n",
        "y_pos = np.arange(len(buses)-1)\n",
        "fig = plt.figure()\n",
        "ACC_dnn_results=0\n",
        "pmd_dnn_results=0\n",
        "pf_dnn_results=0\n",
        "pd_dnn_results=0\n",
        "\n",
        "ACC_dnn_results = [a *100 for a in ACC_dnn]\n",
        "pmd_dnn_results=[b *100 for b in pmd_dnn]\n",
        "pf_dnn_results=[c *100 for c in pf_dnn]\n",
        "pd_dnn_results=[d *100 for d in pd_dnn]\n",
        "\n",
        "\n",
        "fig = plt.figure()\n",
        "fig.subplots_adjust( right=3, top=1)\n",
        "ax = fig.add_subplot(1, 3, 1)\n",
        "ax.bar(y_pos, ACC_dnn_results, align='center', alpha=0.8, color='b')\n",
        "ax.set_xticks(np.arange(len(buses)))\n",
        "ax.set_xticklabels(('Bus1', 'Bus2', 'Bus3', 'Bus4','Bus5','Bus6','Bus7','Bus8','Bus9'), minor=False)\n",
        "ax.set_ylabel('Accuracy (%)')\n",
        "ax.set_title('Deep Neural Network')\n",
        "\n",
        "fig = plt.figure()\n",
        "fig.subplots_adjust( right=3, top=1)\n",
        "ax = fig.add_subplot(1, 3, 1)\n",
        "ax.bar(y_pos, pd_dnn_results, align='center', alpha=0.8, color='orange')\n",
        "ax.set_xticks(np.arange(len(buses)))\n",
        "ax.set_xticklabels(('Bus1', 'Bus2', 'Bus3', 'Bus4','Bus5','Bus6','Bus7','Bus8','Bus9'), minor=False)\n",
        "ax.set_ylabel('Probability of detection (%)')\n",
        "ax.set_title('Deep Neural Network')\n",
        "\n",
        "\n",
        "fig = plt.figure()\n",
        "fig.subplots_adjust( right=3, top=1)\n",
        "ax = fig.add_subplot(1, 3, 1)\n",
        "ax.bar(y_pos, pmd_dnn_results, align='center', alpha=0.8, color='y')\n",
        "ax.set_xticks(np.arange(len(buses)))\n",
        "ax.set_xticklabels(('Bus1', 'Bus2', 'Bus3', 'Bus4','Bus5','Bus6','Bus7','Bus8','Bus9'), minor=False)\n",
        "ax.set_ylabel('Probability of miss detection (%)')\n",
        "ax.set_title('Deep Neural Network')\n",
        "\n",
        "fig = plt.figure()\n",
        "fig.subplots_adjust( right=3, top=1)\n",
        "ax = fig.add_subplot(1, 3, 1)\n",
        "ax.bar(y_pos, pf_dnn_results, align='center', alpha=0.8, color='g')\n",
        "ax.set_xticks(np.arange(len(buses)))\n",
        "ax.set_xticklabels(('Bus1', 'Bus2', 'Bus3', 'Bus4','Bus5','Bus6','Bus7','Bus8','Bus9'), minor=False)\n",
        "ax.set_ylabel('Probability of false alarm (%)')\n",
        "ax.set_title('Deep Neural Network')"
      ],
      "execution_count": 104,
      "outputs": [
        {
          "output_type": "error",
          "ename": "ValueError",
          "evalue": "ignored",
          "traceback": [
            "\u001b[0;31m---------------------------------------------------------------------------\u001b[0m",
            "\u001b[0;31mValueError\u001b[0m                                Traceback (most recent call last)",
            "\u001b[0;32m<ipython-input-104-d6870c31aecc>\u001b[0m in \u001b[0;36m<module>\u001b[0;34m()\u001b[0m\n\u001b[1;32m     16\u001b[0m \u001b[0mfig\u001b[0m\u001b[0;34m.\u001b[0m\u001b[0msubplots_adjust\u001b[0m\u001b[0;34m(\u001b[0m \u001b[0mright\u001b[0m\u001b[0;34m=\u001b[0m\u001b[0;36m3\u001b[0m\u001b[0;34m,\u001b[0m \u001b[0mtop\u001b[0m\u001b[0;34m=\u001b[0m\u001b[0;36m1\u001b[0m\u001b[0;34m)\u001b[0m\u001b[0;34m\u001b[0m\u001b[0;34m\u001b[0m\u001b[0m\n\u001b[1;32m     17\u001b[0m \u001b[0max\u001b[0m \u001b[0;34m=\u001b[0m \u001b[0mfig\u001b[0m\u001b[0;34m.\u001b[0m\u001b[0madd_subplot\u001b[0m\u001b[0;34m(\u001b[0m\u001b[0;36m1\u001b[0m\u001b[0;34m,\u001b[0m \u001b[0;36m3\u001b[0m\u001b[0;34m,\u001b[0m \u001b[0;36m1\u001b[0m\u001b[0;34m)\u001b[0m\u001b[0;34m\u001b[0m\u001b[0;34m\u001b[0m\u001b[0m\n\u001b[0;32m---> 18\u001b[0;31m \u001b[0max\u001b[0m\u001b[0;34m.\u001b[0m\u001b[0mbar\u001b[0m\u001b[0;34m(\u001b[0m\u001b[0my_pos\u001b[0m\u001b[0;34m,\u001b[0m \u001b[0mACC_dnn_results\u001b[0m\u001b[0;34m,\u001b[0m \u001b[0malign\u001b[0m\u001b[0;34m=\u001b[0m\u001b[0;34m'center'\u001b[0m\u001b[0;34m,\u001b[0m \u001b[0malpha\u001b[0m\u001b[0;34m=\u001b[0m\u001b[0;36m0.8\u001b[0m\u001b[0;34m,\u001b[0m \u001b[0mcolor\u001b[0m\u001b[0;34m=\u001b[0m\u001b[0;34m'b'\u001b[0m\u001b[0;34m)\u001b[0m\u001b[0;34m\u001b[0m\u001b[0;34m\u001b[0m\u001b[0m\n\u001b[0m\u001b[1;32m     19\u001b[0m \u001b[0max\u001b[0m\u001b[0;34m.\u001b[0m\u001b[0mset_xticks\u001b[0m\u001b[0;34m(\u001b[0m\u001b[0mnp\u001b[0m\u001b[0;34m.\u001b[0m\u001b[0marange\u001b[0m\u001b[0;34m(\u001b[0m\u001b[0mlen\u001b[0m\u001b[0;34m(\u001b[0m\u001b[0mbuses\u001b[0m\u001b[0;34m)\u001b[0m\u001b[0;34m)\u001b[0m\u001b[0;34m)\u001b[0m\u001b[0;34m\u001b[0m\u001b[0;34m\u001b[0m\u001b[0m\n\u001b[1;32m     20\u001b[0m \u001b[0max\u001b[0m\u001b[0;34m.\u001b[0m\u001b[0mset_xticklabels\u001b[0m\u001b[0;34m(\u001b[0m\u001b[0;34m(\u001b[0m\u001b[0;34m'Bus1'\u001b[0m\u001b[0;34m,\u001b[0m \u001b[0;34m'Bus2'\u001b[0m\u001b[0;34m,\u001b[0m \u001b[0;34m'Bus3'\u001b[0m\u001b[0;34m,\u001b[0m \u001b[0;34m'Bus4'\u001b[0m\u001b[0;34m,\u001b[0m\u001b[0;34m'Bus5'\u001b[0m\u001b[0;34m,\u001b[0m\u001b[0;34m'Bus6'\u001b[0m\u001b[0;34m,\u001b[0m\u001b[0;34m'Bus7'\u001b[0m\u001b[0;34m,\u001b[0m\u001b[0;34m'Bus8'\u001b[0m\u001b[0;34m,\u001b[0m\u001b[0;34m'Bus9'\u001b[0m\u001b[0;34m)\u001b[0m\u001b[0;34m,\u001b[0m \u001b[0mminor\u001b[0m\u001b[0;34m=\u001b[0m\u001b[0;32mFalse\u001b[0m\u001b[0;34m)\u001b[0m\u001b[0;34m\u001b[0m\u001b[0;34m\u001b[0m\u001b[0m\n",
            "\u001b[0;32m/usr/local/lib/python3.6/dist-packages/matplotlib/__init__.py\u001b[0m in \u001b[0;36minner\u001b[0;34m(ax, data, *args, **kwargs)\u001b[0m\n\u001b[1;32m   1597\u001b[0m     \u001b[0;32mdef\u001b[0m \u001b[0minner\u001b[0m\u001b[0;34m(\u001b[0m\u001b[0max\u001b[0m\u001b[0;34m,\u001b[0m \u001b[0;34m*\u001b[0m\u001b[0margs\u001b[0m\u001b[0;34m,\u001b[0m \u001b[0mdata\u001b[0m\u001b[0;34m=\u001b[0m\u001b[0;32mNone\u001b[0m\u001b[0;34m,\u001b[0m \u001b[0;34m**\u001b[0m\u001b[0mkwargs\u001b[0m\u001b[0;34m)\u001b[0m\u001b[0;34m:\u001b[0m\u001b[0;34m\u001b[0m\u001b[0;34m\u001b[0m\u001b[0m\n\u001b[1;32m   1598\u001b[0m         \u001b[0;32mif\u001b[0m \u001b[0mdata\u001b[0m \u001b[0;32mis\u001b[0m \u001b[0;32mNone\u001b[0m\u001b[0;34m:\u001b[0m\u001b[0;34m\u001b[0m\u001b[0;34m\u001b[0m\u001b[0m\n\u001b[0;32m-> 1599\u001b[0;31m             \u001b[0;32mreturn\u001b[0m \u001b[0mfunc\u001b[0m\u001b[0;34m(\u001b[0m\u001b[0max\u001b[0m\u001b[0;34m,\u001b[0m \u001b[0;34m*\u001b[0m\u001b[0mmap\u001b[0m\u001b[0;34m(\u001b[0m\u001b[0msanitize_sequence\u001b[0m\u001b[0;34m,\u001b[0m \u001b[0margs\u001b[0m\u001b[0;34m)\u001b[0m\u001b[0;34m,\u001b[0m \u001b[0;34m**\u001b[0m\u001b[0mkwargs\u001b[0m\u001b[0;34m)\u001b[0m\u001b[0;34m\u001b[0m\u001b[0;34m\u001b[0m\u001b[0m\n\u001b[0m\u001b[1;32m   1600\u001b[0m \u001b[0;34m\u001b[0m\u001b[0m\n\u001b[1;32m   1601\u001b[0m         \u001b[0mbound\u001b[0m \u001b[0;34m=\u001b[0m \u001b[0mnew_sig\u001b[0m\u001b[0;34m.\u001b[0m\u001b[0mbind\u001b[0m\u001b[0;34m(\u001b[0m\u001b[0max\u001b[0m\u001b[0;34m,\u001b[0m \u001b[0;34m*\u001b[0m\u001b[0margs\u001b[0m\u001b[0;34m,\u001b[0m \u001b[0;34m**\u001b[0m\u001b[0mkwargs\u001b[0m\u001b[0;34m)\u001b[0m\u001b[0;34m\u001b[0m\u001b[0;34m\u001b[0m\u001b[0m\n",
            "\u001b[0;32m/usr/local/lib/python3.6/dist-packages/matplotlib/axes/_axes.py\u001b[0m in \u001b[0;36mbar\u001b[0;34m(self, x, height, width, bottom, align, **kwargs)\u001b[0m\n\u001b[1;32m   2372\u001b[0m         x, height, width, y, linewidth = np.broadcast_arrays(\n\u001b[1;32m   2373\u001b[0m             \u001b[0;31m# Make args iterable too.\u001b[0m\u001b[0;34m\u001b[0m\u001b[0;34m\u001b[0m\u001b[0;34m\u001b[0m\u001b[0m\n\u001b[0;32m-> 2374\u001b[0;31m             np.atleast_1d(x), height, width, y, linewidth)\n\u001b[0m\u001b[1;32m   2375\u001b[0m \u001b[0;34m\u001b[0m\u001b[0m\n\u001b[1;32m   2376\u001b[0m         \u001b[0;31m# Now that units have been converted, set the tick locations.\u001b[0m\u001b[0;34m\u001b[0m\u001b[0;34m\u001b[0m\u001b[0;34m\u001b[0m\u001b[0m\n",
            "\u001b[0;32m<__array_function__ internals>\u001b[0m in \u001b[0;36mbroadcast_arrays\u001b[0;34m(*args, **kwargs)\u001b[0m\n",
            "\u001b[0;32m/usr/local/lib/python3.6/dist-packages/numpy/lib/stride_tricks.py\u001b[0m in \u001b[0;36mbroadcast_arrays\u001b[0;34m(*args, **kwargs)\u001b[0m\n\u001b[1;32m    262\u001b[0m     \u001b[0margs\u001b[0m \u001b[0;34m=\u001b[0m \u001b[0;34m[\u001b[0m\u001b[0mnp\u001b[0m\u001b[0;34m.\u001b[0m\u001b[0marray\u001b[0m\u001b[0;34m(\u001b[0m\u001b[0m_m\u001b[0m\u001b[0;34m,\u001b[0m \u001b[0mcopy\u001b[0m\u001b[0;34m=\u001b[0m\u001b[0;32mFalse\u001b[0m\u001b[0;34m,\u001b[0m \u001b[0msubok\u001b[0m\u001b[0;34m=\u001b[0m\u001b[0msubok\u001b[0m\u001b[0;34m)\u001b[0m \u001b[0;32mfor\u001b[0m \u001b[0m_m\u001b[0m \u001b[0;32min\u001b[0m \u001b[0margs\u001b[0m\u001b[0;34m]\u001b[0m\u001b[0;34m\u001b[0m\u001b[0;34m\u001b[0m\u001b[0m\n\u001b[1;32m    263\u001b[0m \u001b[0;34m\u001b[0m\u001b[0m\n\u001b[0;32m--> 264\u001b[0;31m     \u001b[0mshape\u001b[0m \u001b[0;34m=\u001b[0m \u001b[0m_broadcast_shape\u001b[0m\u001b[0;34m(\u001b[0m\u001b[0;34m*\u001b[0m\u001b[0margs\u001b[0m\u001b[0;34m)\u001b[0m\u001b[0;34m\u001b[0m\u001b[0;34m\u001b[0m\u001b[0m\n\u001b[0m\u001b[1;32m    265\u001b[0m \u001b[0;34m\u001b[0m\u001b[0m\n\u001b[1;32m    266\u001b[0m     \u001b[0;32mif\u001b[0m \u001b[0mall\u001b[0m\u001b[0;34m(\u001b[0m\u001b[0marray\u001b[0m\u001b[0;34m.\u001b[0m\u001b[0mshape\u001b[0m \u001b[0;34m==\u001b[0m \u001b[0mshape\u001b[0m \u001b[0;32mfor\u001b[0m \u001b[0marray\u001b[0m \u001b[0;32min\u001b[0m \u001b[0margs\u001b[0m\u001b[0;34m)\u001b[0m\u001b[0;34m:\u001b[0m\u001b[0;34m\u001b[0m\u001b[0;34m\u001b[0m\u001b[0m\n",
            "\u001b[0;32m/usr/local/lib/python3.6/dist-packages/numpy/lib/stride_tricks.py\u001b[0m in \u001b[0;36m_broadcast_shape\u001b[0;34m(*args)\u001b[0m\n\u001b[1;32m    189\u001b[0m     \u001b[0;31m# use the old-iterator because np.nditer does not handle size 0 arrays\u001b[0m\u001b[0;34m\u001b[0m\u001b[0;34m\u001b[0m\u001b[0;34m\u001b[0m\u001b[0m\n\u001b[1;32m    190\u001b[0m     \u001b[0;31m# consistently\u001b[0m\u001b[0;34m\u001b[0m\u001b[0;34m\u001b[0m\u001b[0;34m\u001b[0m\u001b[0m\n\u001b[0;32m--> 191\u001b[0;31m     \u001b[0mb\u001b[0m \u001b[0;34m=\u001b[0m \u001b[0mnp\u001b[0m\u001b[0;34m.\u001b[0m\u001b[0mbroadcast\u001b[0m\u001b[0;34m(\u001b[0m\u001b[0;34m*\u001b[0m\u001b[0margs\u001b[0m\u001b[0;34m[\u001b[0m\u001b[0;34m:\u001b[0m\u001b[0;36m32\u001b[0m\u001b[0;34m]\u001b[0m\u001b[0;34m)\u001b[0m\u001b[0;34m\u001b[0m\u001b[0;34m\u001b[0m\u001b[0m\n\u001b[0m\u001b[1;32m    192\u001b[0m     \u001b[0;31m# unfortunately, it cannot handle 32 or more arguments directly\u001b[0m\u001b[0;34m\u001b[0m\u001b[0;34m\u001b[0m\u001b[0;34m\u001b[0m\u001b[0m\n\u001b[1;32m    193\u001b[0m     \u001b[0;32mfor\u001b[0m \u001b[0mpos\u001b[0m \u001b[0;32min\u001b[0m \u001b[0mrange\u001b[0m\u001b[0;34m(\u001b[0m\u001b[0;36m32\u001b[0m\u001b[0;34m,\u001b[0m \u001b[0mlen\u001b[0m\u001b[0;34m(\u001b[0m\u001b[0margs\u001b[0m\u001b[0;34m)\u001b[0m\u001b[0;34m,\u001b[0m \u001b[0;36m31\u001b[0m\u001b[0;34m)\u001b[0m\u001b[0;34m:\u001b[0m\u001b[0;34m\u001b[0m\u001b[0;34m\u001b[0m\u001b[0m\n",
            "\u001b[0;31mValueError\u001b[0m: shape mismatch: objects cannot be broadcast to a single shape"
          ]
        },
        {
          "output_type": "display_data",
          "data": {
            "text/plain": [
              "<Figure size 432x288 with 0 Axes>"
            ]
          },
          "metadata": {
            "tags": []
          }
        },
        {
          "output_type": "display_data",
          "data": {
            "image/png": "[encoded data removed]",
            "text/plain": [
              "<Figure size 432x288 with 1 Axes>"
            ]
          },
          "metadata": {
            "tags": []
          }
        }
      ]
    },
    {
      "cell_type": "code",
      "metadata": {
        "id": "lKuTKj5xHiRx",
        "colab_type": "code",
        "outputId": "2e086640-8633-4662-8cce-36e8badcd73b",
        "colab": {
          "base_uri": "https://localhost:8080/",
          "height": 51
        }
      },
      "source": [
        "# training SVC classifier with an RBF kernel\n",
        "svm_model = SVC(kernel = 'rbf', C = 1).fit(X_train, y_train) \n",
        "svm_predictions = svm_model.predict(X_test)  \n",
        "accuracy_svm=accuracy_score(y_test,svm_predictions)\n",
        "print(\"Accuracy (%): \"+str(accuracy_svm)) \n",
        "\n",
        "# training SVR classifier with a linear kernel\n",
        "svm_model_2 = SVC(kernel = 'linear', C = 1).fit(X_train, y_train) \n",
        "svm_predictions_2 = svm_model_2.predict(X_test)  \n",
        "accuracy_svm_2=accuracy_score(y_test,svm_predictions_2)\n",
        "print(\"Accuracy (%): \"+str(accuracy_svm_2)) \n",
        "\n",
        "#confusion matrix\n",
        "cnf_matrix = confusion_matrix(y_test, svm_predictions)\n",
        "\n",
        "FP = cnf_matrix.sum(axis=0) - np.diag(cnf_matrix)  \n",
        "FN = cnf_matrix.sum(axis=1) - np.diag(cnf_matrix)\n",
        "TP = np.diag(cnf_matrix)\n",
        "TN = cnf_matrix.sum() - (FP + FN + TP)\n",
        "\n",
        "FP = FP.astype(float)\n",
        "FN = FN.astype(float)\n",
        "TP = TP.astype(float)\n",
        "TN = TN.astype(float)\n",
        "\n",
        "# Sensitivity, hit rate, recall, or true positive rate\n",
        "TPR = TP/(TP+FN)\n",
        "# Specificity or true negative rate\n",
        "TNR = TN/(TN+FP) \n",
        "# Precision or positive predictive value\n",
        "PPV = TP/(TP+FP)\n",
        "# Negative predictive value\n",
        "NPV = TN/(TN+FN)\n",
        "# Fall out or false positive rate\n",
        "FPR = FP/(FP+TN)\n",
        "# False negative rate\n",
        "FNR = FN/(TP+FN)\n",
        "# False discovery rate\n",
        "FDR = FP/(TP+FP)\n",
        "# Overall accuracy\n",
        "ACC_svm = (TP+TN)/(TP+FP+FN+TN)\n",
        "\n",
        "\n",
        "pmd_svm=FN/(TP+FN)\n",
        "\n",
        "pd_svm=TP/(TP+FN)\n",
        "\n",
        "pf_svm=FP/(FP+TN)\n"
      ],
      "execution_count": 0,
      "outputs": [
        {
          "output_type": "stream",
          "text": [
            "Accuracy (%): 0.29399889888052855\n",
            "Accuracy (%): 0.2783079464121857\n"
          ],
          "name": "stdout"
        }
      ]
    },
    {
      "cell_type": "code",
      "metadata": {
        "id": "YKzwRbrsTGWm",
        "colab_type": "code",
        "outputId": "3466a4a9-c564-4714-e7f5-5de347be05e6",
        "colab": {
          "base_uri": "https://localhost:8080/",
          "height": 1000
        }
      },
      "source": [
        "buses = ('Bus1', 'Bus2', 'Bus3', 'Bus4', 'Bus4','Bus5','Bus6','Bus7','Bus8','Bus9')\n",
        "y_pos = np.arange(len(buses)-1)\n",
        "fig = plt.figure()\n",
        "\n",
        "ACC_svm_results = [j *100 for j in ACC_svm]\n",
        "pmd_svm_results=[j *100 for j in pmd_svm]\n",
        "pf_svm_results=[j *100 for j in pf_svm]\n",
        "pd_svm_results=[j *100 for j in pd_svm]\n",
        "\n",
        "\n",
        "fig = plt.figure()\n",
        "fig.subplots_adjust( right=3, top=1)\n",
        "ax = fig.add_subplot(1, 3, 1)\n",
        "ax.bar(y_pos, ACC_svm_results, align='center', alpha=0.8, color='b')\n",
        "ax.set_xticks(np.arange(len(buses)))\n",
        "ax.set_xticklabels(('Bus1', 'Bus2', 'Bus3', 'Bus4','Bus5','Bus6','Bus7','Bus8','Bus9'), minor=False)\n",
        "ax.set_ylabel('Accuracy (%)')\n",
        "ax.set_title('Support Vector Machine')\n",
        "\n",
        "fig = plt.figure()\n",
        "fig.subplots_adjust( right=3, top=1)\n",
        "ax = fig.add_subplot(1, 3, 1)\n",
        "ax.bar(y_pos, pd_svm_results, align='center', alpha=0.8, color='orange')\n",
        "ax.set_xticks(np.arange(len(buses)))\n",
        "ax.set_xticklabels(('Bus1', 'Bus2', 'Bus3', 'Bus4','Bus5','Bus6','Bus7','Bus8','Bus9'), minor=False)\n",
        "ax.set_ylabel('Probability of detection (%)')\n",
        "ax.set_title('Support Vector Machine')\n",
        "\n",
        "\n",
        "fig = plt.figure()\n",
        "fig.subplots_adjust( right=3, top=1)\n",
        "ax = fig.add_subplot(1, 3, 1)\n",
        "ax.bar(y_pos, pmd_svm_results, align='center', alpha=0.8, color='y')\n",
        "ax.set_xticks(np.arange(len(buses)))\n",
        "ax.set_xticklabels(('Bus1', 'Bus2', 'Bus3', 'Bus4','Bus5','Bus6','Bus7','Bus8','Bus9'), minor=False)\n",
        "ax.set_ylabel('Probability of miss detection (%)')\n",
        "ax.set_title('Support Vector Machine')\n",
        "\n",
        "fig = plt.figure()\n",
        "fig.subplots_adjust( right=3, top=1)\n",
        "ax = fig.add_subplot(1, 3, 1)\n",
        "ax.bar(y_pos, pf_svm_results, align='center', alpha=0.8, color='g')\n",
        "ax.set_xticks(np.arange(len(buses)))\n",
        "ax.set_xticklabels(('Bus1', 'Bus2', 'Bus3', 'Bus4','Bus5','Bus6','Bus7','Bus8','Bus9'), minor=False)\n",
        "ax.set_ylabel('Probability of false alarm (%)')\n",
        "ax.set_title('Support Vector Machine')"
      ],
      "execution_count": 0,
      "outputs": [
        {
          "output_type": "execute_result",
          "data": {
            "text/plain": [
              "Text(0.5, 1.0, 'Support Vector Machine')"
            ]
          },
          "metadata": {
            "tags": []
          },
          "execution_count": 28
        },
        {
          "output_type": "display_data",
          "data": {
            "text/plain": [
              "<Figure size 432x288 with 0 Axes>"
            ]
          },
          "metadata": {
            "tags": []
          }
        },
        {
          "output_type": "display_data",
          "data": {
            "image/png": "[encoded data removed]",
            "text/plain": [
              "<Figure size 432x288 with 1 Axes>"
            ]
          },
          "metadata": {
            "tags": []
          }
        },
        {
          "output_type": "display_data",
          "data": {
            "image/png": "[encoded data removed]",
            "text/plain": [
              "<Figure size 432x288 with 1 Axes>"
            ]
          },
          "metadata": {
            "tags": []
          }
        },
        {
          "output_type": "display_data",
          "data": {
            "image/png": "[encoded data removed]",
            "text/plain": [
              "<Figure size 432x288 with 1 Axes>"
            ]
          },
          "metadata": {
            "tags": []
          }
        },
        {
          "output_type": "display_data",
          "data": {
            "image/png": "[encoded data removed]",
            "text/plain": [
              "<Figure size 432x288 with 1 Axes>"
            ]
          },
          "metadata": {
            "tags": []
          }
        }
      ]
    },
    {
      "cell_type": "code",
      "metadata": {
        "id": "6OoGaxj_HnE8",
        "colab_type": "code",
        "outputId": "079fb80d-4359-4d0d-c805-891066abca1d",
        "colab": {
          "base_uri": "https://localhost:8080/",
          "height": 34
        }
      },
      "source": [
        "#KNN\n",
        "knn = KNeighborsClassifier().fit(X_train, y_train) \n",
        "knn_predictions = knn.predict(X_test)  \n",
        "accuracy_knn=accuracy_score(y_test,knn_predictions)\n",
        "print(\"Accuracy (%): \"+str(accuracy_knn)) \n",
        "\n",
        "#confusion matrix\n",
        "cnf_matrix = confusion_matrix(y_test, knn_predictions)\n",
        "\n",
        "FP = cnf_matrix.sum(axis=0) - np.diag(cnf_matrix)  \n",
        "FN = cnf_matrix.sum(axis=1) - np.diag(cnf_matrix)\n",
        "TP = np.diag(cnf_matrix)\n",
        "TN = cnf_matrix.sum() - (FP + FN + TP)\n",
        "\n",
        "FP = FP.astype(float)\n",
        "FN = FN.astype(float)\n",
        "TP = TP.astype(float)\n",
        "TN = TN.astype(float)\n",
        "\n",
        "# Sensitivity, hit rate, recall, or true positive rate\n",
        "TPR = TP/(TP+FN)\n",
        "# Specificity or true negative rate\n",
        "TNR = TN/(TN+FP) \n",
        "# Precision or positive predictive value\n",
        "PPV = TP/(TP+FP)\n",
        "# Negative predictive value\n",
        "NPV = TN/(TN+FN)\n",
        "# Fall out or false positive rate\n",
        "FPR = FP/(FP+TN)\n",
        "# False negative rate\n",
        "FNR = FN/(TP+FN)\n",
        "# False discovery rate\n",
        "FDR = FP/(TP+FP)\n",
        "# Overall accuracy\n",
        "ACC_knn = (TP+TN)/(TP+FP+FN+TN)\n",
        "\n",
        "\n",
        "pmd_knn=FN/(TP+FN)\n",
        "\n",
        "pd_knn=TP/(TP+FN)\n",
        "\n",
        "pf_knn=FP/(FP+TN)"
      ],
      "execution_count": 0,
      "outputs": [
        {
          "output_type": "stream",
          "text": [
            "Accuracy (%): 0.4566893007891356\n"
          ],
          "name": "stdout"
        }
      ]
    },
    {
      "cell_type": "code",
      "metadata": {
        "id": "P46-iCoqTPEQ",
        "colab_type": "code",
        "outputId": "b8a2acba-1927-47b6-f6b3-9b269bfe4103",
        "colab": {
          "base_uri": "https://localhost:8080/",
          "height": 1000
        }
      },
      "source": [
        "buses = ('Bus1', 'Bus2', 'Bus3', 'Bus4', 'Bus4','Bus5','Bus6','Bus7','Bus8','Bus9')\n",
        "y_pos = np.arange(len(buses)-1)\n",
        "fig = plt.figure()\n",
        "\n",
        "ACC_knn_results = [j *100 for j in ACC_knn]\n",
        "pmd_knn_results=[j *100 for j in pmd_knn]\n",
        "pf_knn_results=[j *100 for j in pf_knn]\n",
        "pd_knn_results=[j *100 for j in pd_knn]\n",
        "\n",
        "\n",
        "fig = plt.figure()\n",
        "fig.subplots_adjust( right=3, top=1)\n",
        "ax = fig.add_subplot(1, 3, 1)\n",
        "ax.bar(y_pos, ACC_knn_results, align='center', alpha=0.8, color='b')\n",
        "ax.set_xticks(np.arange(len(buses)))\n",
        "ax.set_xticklabels(('Bus1', 'Bus2', 'Bus3', 'Bus4','Bus5','Bus6','Bus7','Bus8','Bus9'), minor=False)\n",
        "ax.set_ylabel('Accuracy (%)')\n",
        "ax.set_title('KNN')\n",
        "\n",
        "fig = plt.figure()\n",
        "fig.subplots_adjust( right=3, top=1)\n",
        "ax = fig.add_subplot(1, 3, 1)\n",
        "ax.bar(y_pos, pd_knn_results, align='center', alpha=0.8, color='orange')\n",
        "ax.set_xticks(np.arange(len(buses)))\n",
        "ax.set_xticklabels(('Bus1', 'Bus2', 'Bus3', 'Bus4','Bus5','Bus6','Bus7','Bus8','Bus9'), minor=False)\n",
        "ax.set_ylabel('Probability of detection (%)')\n",
        "ax.set_title('KNN')\n",
        "\n",
        "\n",
        "fig = plt.figure()\n",
        "fig.subplots_adjust( right=3, top=1)\n",
        "ax = fig.add_subplot(1, 3, 1)\n",
        "ax.bar(y_pos, pmd_knn_results, align='center', alpha=0.8, color='y')\n",
        "ax.set_xticks(np.arange(len(buses)))\n",
        "ax.set_xticklabels(('Bus1', 'Bus2', 'Bus3', 'Bus4','Bus5','Bus6','Bus7','Bus8','Bus9'), minor=False)\n",
        "ax.set_ylabel('Probability of miss detection (%)')\n",
        "ax.set_title('KNN')\n",
        "\n",
        "fig = plt.figure()\n",
        "fig.subplots_adjust( right=3, top=1)\n",
        "ax = fig.add_subplot(1, 3, 1)\n",
        "ax.bar(y_pos, pf_knn_results, align='center', alpha=0.8, color='g')\n",
        "ax.set_xticks(np.arange(len(buses)))\n",
        "ax.set_xticklabels(('Bus1', 'Bus2', 'Bus3', 'Bus4','Bus5','Bus6','Bus7','Bus8','Bus9'), minor=False)\n",
        "ax.set_ylabel('Probability of false alarm (%)')\n",
        "ax.set_title('KNN')"
      ],
      "execution_count": 0,
      "outputs": [
        {
          "output_type": "execute_result",
          "data": {
            "text/plain": [
              "Text(0.5, 1.0, 'KNN')"
            ]
          },
          "metadata": {
            "tags": []
          },
          "execution_count": 31
        },
        {
          "output_type": "display_data",
          "data": {
            "text/plain": [
              "<Figure size 432x288 with 0 Axes>"
            ]
          },
          "metadata": {
            "tags": []
          }
        },
        {
          "output_type": "display_data",
          "data": {
            "image/png": "[encoded data removed]",
            "text/plain": [
              "<Figure size 432x288 with 1 Axes>"
            ]
          },
          "metadata": {
            "tags": []
          }
        },
        {
          "output_type": "display_data",
          "data": {
            "image/png": "[encoded data removed]",
            "text/plain": [
              "<Figure size 432x288 with 1 Axes>"
            ]
          },
          "metadata": {
            "tags": []
          }
        },
        {
          "output_type": "display_data",
          "data": {
            "image/png": "[encoded data removed]",
            "text/plain": [
              "<Figure size 432x288 with 1 Axes>"
            ]
          },
          "metadata": {
            "tags": []
          }
        },
        {
          "output_type": "display_data",
          "data": {
            "image/png": "[encoded data removed]",
            "text/plain": [
              "<Figure size 432x288 with 1 Axes>"
            ]
          },
          "metadata": {
            "tags": []
          }
        }
      ]
    },
    {
      "cell_type": "code",
      "metadata": {
        "id": "LHUi3WMcHqBP",
        "colab_type": "code",
        "outputId": "6d4976a2-efdf-4f6e-f10f-7cfa3ad39a30",
        "colab": {
          "base_uri": "https://localhost:8080/",
          "height": 34
        }
      },
      "source": [
        "#NB\n",
        "gnb =GaussianNB().fit(X_train, y_train) \n",
        "gnb_predictions = gnb.predict(X_test) \n",
        "accuracy_nb=accuracy_score(y_test,gnb_predictions)\n",
        "print(\"Accuracy (%): \"+str(accuracy_nb)) \n",
        "\n",
        "#confusion matrix\n",
        "cnf_matrix = confusion_matrix(y_test, gnb_predictions)\n",
        "\n",
        "FP = cnf_matrix.sum(axis=0) - np.diag(cnf_matrix)  \n",
        "FN = cnf_matrix.sum(axis=1) - np.diag(cnf_matrix)\n",
        "TP = np.diag(cnf_matrix)\n",
        "TN = cnf_matrix.sum() - (FP + FN + TP)\n",
        "\n",
        "\n",
        "FP = FP.astype(float)\n",
        "FN = FN.astype(float)\n",
        "TP = TP.astype(float)\n",
        "TN = TN.astype(float)\n",
        "\n",
        "# Sensitivity, hit rate, recall, or true positive rate\n",
        "TPR = TP/(TP+FN)\n",
        "# Specificity or true negative rate\n",
        "TNR = TN/(TN+FP) \n",
        "# Precision or positive predictive value\n",
        "PPV = TP/(TP+FP)\n",
        "# Negative predictive value\n",
        "NPV = TN/(TN+FN)\n",
        "# Fall out or false positive rate\n",
        "FPR = FP/(FP+TN)\n",
        "# False negative rate\n",
        "FNR = FN/(TP+FN)\n",
        "# False discovery rate\n",
        "FDR = FP/(TP+FP)\n",
        "# Overall accuracy\n",
        "ACC_nb = (TP+TN)/(TP+FP+FN+TN)\n",
        "\n",
        "\n",
        "\n",
        "pmd_nb=FN/(TP+FN)\n",
        "\n",
        "pd_nb=TP/(TP+FN)\n",
        "\n",
        "pf_nb=FP/(FP+TN)"
      ],
      "execution_count": 0,
      "outputs": [
        {
          "output_type": "stream",
          "text": [
            "Accuracy (%): 0.20352358230868048\n"
          ],
          "name": "stdout"
        }
      ]
    },
    {
      "cell_type": "code",
      "metadata": {
        "id": "zH0PfxZATpaJ",
        "colab_type": "code",
        "outputId": "37316ca4-a1bb-4e05-aa3d-c4cbe84d77a6",
        "colab": {
          "base_uri": "https://localhost:8080/",
          "height": 1000
        }
      },
      "source": [
        "buses = ('Bus1', 'Bus2', 'Bus3', 'Bus4', 'Bus4','Bus5','Bus6','Bus7','Bus8','Bus9')\n",
        "y_pos = np.arange(len(buses)-1)\n",
        "fig = plt.figure()\n",
        "\n",
        "ACC_nb_results = [j *100 for j in ACC_nb]\n",
        "pmd_nb_results=[j *100 for j in pmd_nb]\n",
        "pf_nb_results=[j *100 for j in pf_nb]\n",
        "pd_nb_results=[j *100 for j in pd_nb]\n",
        "\n",
        "\n",
        "fig = plt.figure()\n",
        "fig.subplots_adjust( right=3, top=1)\n",
        "ax = fig.add_subplot(1, 3, 1)\n",
        "ax.bar(y_pos, ACC_nb_results, align='center', alpha=0.8, color='b')\n",
        "ax.set_xticks(np.arange(len(buses)))\n",
        "ax.set_xticklabels(('Bus1', 'Bus2', 'Bus3', 'Bus4','Bus5','Bus6','Bus7','Bus8','Bus9'), minor=False)\n",
        "ax.set_ylabel('Accuracy (%)')\n",
        "ax.set_title('NB')\n",
        "\n",
        "\n",
        "fig = plt.figure()\n",
        "fig.subplots_adjust( right=3, top=1)\n",
        "ax = fig.add_subplot(1, 3, 1)\n",
        "ax.bar(y_pos, pd_nb_results, align='center', alpha=0.8, color='orange')\n",
        "ax.set_xticks(np.arange(len(buses)))\n",
        "ax.set_xticklabels(('Bus1', 'Bus2', 'Bus3', 'Bus4','Bus5','Bus6','Bus7','Bus8','Bus9'), minor=False)\n",
        "ax.set_ylabel('Probability of detection (%)')\n",
        "ax.set_title('NB')\n",
        "\n",
        "fig = plt.figure()\n",
        "fig.subplots_adjust( right=3, top=1)\n",
        "ax = fig.add_subplot(1, 3, 1)\n",
        "ax.bar(y_pos, pmd_nb_results, align='center', alpha=0.8, color='y')\n",
        "ax.set_xticks(np.arange(len(buses)))\n",
        "ax.set_xticklabels(('Bus1', 'Bus2', 'Bus3', 'Bus4','Bus5','Bus6','Bus7','Bus8','Bus9'), minor=False)\n",
        "ax.set_ylabel('Probability of miss detection (%)')\n",
        "ax.set_title('NB')\n",
        "\n",
        "fig = plt.figure()\n",
        "fig.subplots_adjust( right=3, top=1)\n",
        "ax = fig.add_subplot(1, 3, 1)\n",
        "ax.bar(y_pos, pf_nb_results, align='center', alpha=0.8, color='g')\n",
        "ax.set_xticks(np.arange(len(buses)))\n",
        "ax.set_xticklabels(('Bus1', 'Bus2', 'Bus3', 'Bus4','Bus5','Bus6','Bus7','Bus8','Bus9'), minor=False)\n",
        "ax.set_ylabel('Probability of false alarm (%)')\n",
        "ax.set_title('NB')"
      ],
      "execution_count": 0,
      "outputs": [
        {
          "output_type": "execute_result",
          "data": {
            "text/plain": [
              "Text(0.5, 1.0, 'NB')"
            ]
          },
          "metadata": {
            "tags": []
          },
          "execution_count": 35
        },
        {
          "output_type": "display_data",
          "data": {
            "text/plain": [
              "<Figure size 432x288 with 0 Axes>"
            ]
          },
          "metadata": {
            "tags": []
          }
        },
        {
          "output_type": "display_data",
          "data": {
            "image/png": "[encoded data removed]",
            "text/plain": [
              "<Figure size 432x288 with 1 Axes>"
            ]
          },
          "metadata": {
            "tags": []
          }
        },
        {
          "output_type": "display_data",
          "data": {
            "image/png": "[encoded data removed]",
            "text/plain": [
              "<Figure size 432x288 with 1 Axes>"
            ]
          },
          "metadata": {
            "tags": []
          }
        },
        {
          "output_type": "display_data",
          "data": {
            "image/png": "[encoded data removed]",
            "text/plain": [
              "<Figure size 432x288 with 1 Axes>"
            ]
          },
          "metadata": {
            "tags": []
          }
        },
        {
          "output_type": "display_data",
          "data": {
            "image/png": "[encoded data removed]",
            "text/plain": [
              "<Figure size 432x288 with 1 Axes>"
            ]
          },
          "metadata": {
            "tags": []
          }
        }
      ]
    },
    {
      "cell_type": "code",
      "metadata": {
        "id": "OnWfZsVpHrrn",
        "colab_type": "code",
        "outputId": "7f1d36f3-5bbf-44ac-985d-4eb23e45e5f5",
        "colab": {
          "base_uri": "https://localhost:8080/",
          "height": 68
        }
      },
      "source": [
        "\n",
        "#DT\n",
        "dtree_model = DecisionTreeClassifier(max_depth = 2).fit(X_train, y_train) \n",
        "dtree_prediction = dtree_model.predict(X_test) \n",
        "accuracy_dt=accuracy_score(y_test,dtree_prediction)\n",
        "print(\"Accuracy (%): \"+str(accuracy_dt))\n",
        "\n",
        "#confusion matrix\n",
        "cnf_matrix = confusion_matrix(y_test, dtree_prediction)\n",
        "\n",
        "FP = cnf_matrix.sum(axis=0) - np.diag(cnf_matrix)  \n",
        "FN = cnf_matrix.sum(axis=1) - np.diag(cnf_matrix)\n",
        "TP = np.diag(cnf_matrix)\n",
        "TN = cnf_matrix.sum() - (FP + FN + TP)\n",
        "\n",
        "\n",
        "FP = FP.astype(float)\n",
        "FN = FN.astype(float)\n",
        "TP = TP.astype(float)\n",
        "TN = TN.astype(float)\n",
        "\n",
        "# Sensitivity, hit rate, recall, or true positive rate\n",
        "TPR = TP/(TP+FN)\n",
        "# Specificity or true negative rate\n",
        "TNR = TN/(TN+FP) \n",
        "# Precision or positive predictive value\n",
        "PPV = TP/(TP+FP)\n",
        "# Negative predictive value\n",
        "NPV = TN/(TN+FN)\n",
        "# Fall out or false positive rate\n",
        "FPR = FP/(FP+TN)\n",
        "# False negative rate\n",
        "FNR = FN/(TP+FN)\n",
        "# False discovery rate\n",
        "FDR = FP/(TP+FP)\n",
        "# Overall accuracy\n",
        "ACC_dt = (TP+TN)/(TP+FP+FN+TN)\n",
        "\n",
        "pmd_dt=FN/(TP+FN)\n",
        "\n",
        "pd_dt=TP/(TP+FN)\n",
        "\n",
        "pf_dt=FP/(FP+TN)"
      ],
      "execution_count": 0,
      "outputs": [
        {
          "output_type": "stream",
          "text": [
            "Accuracy (%): 0.2542668379519178\n"
          ],
          "name": "stdout"
        },
        {
          "output_type": "stream",
          "text": [
            "/usr/local/lib/python3.6/dist-packages/ipykernel_launcher.py:25: RuntimeWarning: invalid value encountered in true_divide\n",
            "/usr/local/lib/python3.6/dist-packages/ipykernel_launcher.py:33: RuntimeWarning: invalid value encountered in true_divide\n"
          ],
          "name": "stderr"
        }
      ]
    },
    {
      "cell_type": "code",
      "metadata": {
        "id": "Ep5Hr9qQTwAi",
        "colab_type": "code",
        "outputId": "22cef334-6f7a-4b7e-af9d-1ac7e1c75bca",
        "colab": {
          "base_uri": "https://localhost:8080/",
          "height": 1000
        }
      },
      "source": [
        "buses = ('Bus1', 'Bus2', 'Bus3', 'Bus4', 'Bus4','Bus5','Bus6','Bus7','Bus8','Bus9')\n",
        "y_pos = np.arange(len(buses)-1)\n",
        "fig = plt.figure()\n",
        "\n",
        "ACC_dt_results = [j *100 for j in ACC_dt]\n",
        "pmd_dt_results=[j *100 for j in pmd_dt]\n",
        "pf_dt_results=[j *100 for j in pf_dt]\n",
        "pd_dt_results=[j *100 for j in pf_dt]\n",
        "\n",
        "\n",
        "fig = plt.figure()\n",
        "fig.subplots_adjust( right=3, top=1)\n",
        "ax = fig.add_subplot(1, 3, 1)\n",
        "ax.bar(y_pos, ACC_dt_results, align='center', alpha=0.8, color='b')\n",
        "ax.set_xticks(np.arange(len(buses)))\n",
        "ax.set_xticklabels(('Bus1', 'Bus2', 'Bus3', 'Bus4','Bus5','Bus6','Bus7','Bus8','Bus9'), minor=False)\n",
        "ax.set_ylabel('Accuracy (%)')\n",
        "ax.set_title('DT')\n",
        "\n",
        "\n",
        "fig = plt.figure()\n",
        "fig.subplots_adjust( right=3, top=1)\n",
        "ax = fig.add_subplot(1, 3, 1)\n",
        "ax.bar(y_pos, pd_dt_results, align='center', alpha=0.8, color='orange')\n",
        "ax.set_xticks(np.arange(len(buses)))\n",
        "ax.set_xticklabels(('Bus1', 'Bus2', 'Bus3', 'Bus4','Bus5','Bus6','Bus7','Bus8','Bus9'), minor=False)\n",
        "ax.set_ylabel('Probability of detection (%)')\n",
        "ax.set_title('DT')\n",
        "\n",
        "fig = plt.figure()\n",
        "fig.subplots_adjust( right=3, top=1)\n",
        "ax = fig.add_subplot(1, 3, 1)\n",
        "ax.bar(y_pos, pmd_dt_results, align='center', alpha=0.8, color='y')\n",
        "ax.set_xticks(np.arange(len(buses)))\n",
        "ax.set_xticklabels(('Bus1', 'Bus2', 'Bus3', 'Bus4','Bus5','Bus6','Bus7','Bus8','Bus9'), minor=False)\n",
        "ax.set_ylabel('Probability of miss detection (%)')\n",
        "ax.set_title('DT')\n",
        "\n",
        "fig = plt.figure()\n",
        "fig.subplots_adjust( right=3, top=1)\n",
        "ax = fig.add_subplot(1, 3, 1)\n",
        "ax.bar(y_pos, pf_dt_results, align='center', alpha=0.8, color='g')\n",
        "ax.set_xticks(np.arange(len(buses)))\n",
        "ax.set_xticklabels(('Bus1', 'Bus2', 'Bus3', 'Bus4','Bus5','Bus6','Bus7','Bus8','Bus9'), minor=False)\n",
        "ax.set_ylabel('Probability of false alarm (%)')\n",
        "ax.set_title('DT')"
      ],
      "execution_count": 0,
      "outputs": [
        {
          "output_type": "execute_result",
          "data": {
            "text/plain": [
              "Text(0.5, 1.0, 'DT')"
            ]
          },
          "metadata": {
            "tags": []
          },
          "execution_count": 41
        },
        {
          "output_type": "display_data",
          "data": {
            "text/plain": [
              "<Figure size 432x288 with 0 Axes>"
            ]
          },
          "metadata": {
            "tags": []
          }
        },
        {
          "output_type": "display_data",
          "data": {
            "image/png": "[encoded data removed]",
            "text/plain": [
              "<Figure size 432x288 with 1 Axes>"
            ]
          },
          "metadata": {
            "tags": []
          }
        },
        {
          "output_type": "display_data",
          "data": {
            "image/png": "[encoded data removed]",
            "text/plain": [
              "<Figure size 432x288 with 1 Axes>"
            ]
          },
          "metadata": {
            "tags": []
          }
        },
        {
          "output_type": "display_data",
          "data": {
            "image/png": "[encoded data removed]",
            "text/plain": [
              "<Figure size 432x288 with 1 Axes>"
            ]
          },
          "metadata": {
            "tags": []
          }
        },
        {
          "output_type": "display_data",
          "data": {
            "image/png": "[encoded data removed]",
            "text/plain": [
              "<Figure size 432x288 with 1 Axes>"
            ]
          },
          "metadata": {
            "tags": []
          }
        }
      ]
    },
    {
      "cell_type": "code",
      "metadata": {
        "id": "Qtk9Y56THtNg",
        "colab_type": "code",
        "outputId": "0e8655cf-aff5-4af5-ab59-2caa570c5d86",
        "colab": {
          "base_uri": "https://localhost:8080/",
          "height": 34
        }
      },
      "source": [
        "\n",
        "#RF\n",
        "rf = RandomForestClassifier()\n",
        "rf.fit(X_train,y_train)\n",
        "rf_prediction=rf.predict(X_test)\n",
        "accuracy_rf=accuracy_score(y_test,rf_prediction)\n",
        "print(\"Accuracy (%): \"+str(accuracy_rf))\n",
        "\n",
        "\n",
        "#confusion matrix\n",
        "cnf_matrix = confusion_matrix(y_test, rf_prediction)\n",
        "\n",
        "FP = cnf_matrix.sum(axis=0) - np.diag(cnf_matrix)  \n",
        "FN = cnf_matrix.sum(axis=1) - np.diag(cnf_matrix)\n",
        "TP = np.diag(cnf_matrix)\n",
        "TN = cnf_matrix.sum() - (FP + FN + TP)\n",
        "\n",
        "\n",
        "FP = FP.astype(float)\n",
        "FN = FN.astype(float)\n",
        "TP = TP.astype(float)\n",
        "TN = TN.astype(float)\n",
        "\n",
        "# Sensitivity, hit rate, recall, or true positive rate\n",
        "TPR = TP/(TP+FN)\n",
        "# Specificity or true negative rate\n",
        "TNR = TN/(TN+FP) \n",
        "# Precision or positive predictive value\n",
        "PPV = TP/(TP+FP)\n",
        "# Negative predictive value\n",
        "NPV = TN/(TN+FN)\n",
        "# Fall out or false positive rate\n",
        "FPR = FP/(FP+TN)\n",
        "# False negative rate\n",
        "FNR = FN/(TP+FN)\n",
        "# False discovery rate\n",
        "FDR = FP/(TP+FP)\n",
        "# Overall accuracy\n",
        "ACC_rf = (TP+TN)/(TP+FP+FN+TN)\n",
        "\n",
        "pmd_rf=FN/(TP+FN)\n",
        "\n",
        "pd_rf=TP/(TP+FN)\n",
        "\n",
        "pf_rf=FP/(FP+TN)\n"
      ],
      "execution_count": 0,
      "outputs": [
        {
          "output_type": "stream",
          "text": [
            "Accuracy (%): 0.8968618095063314\n"
          ],
          "name": "stdout"
        }
      ]
    },
    {
      "cell_type": "code",
      "metadata": {
        "id": "MVDB63b8T6oP",
        "colab_type": "code",
        "outputId": "952fe161-4c53-4f18-ccc2-13b0fd424287",
        "colab": {
          "base_uri": "https://localhost:8080/",
          "height": 1000
        }
      },
      "source": [
        "buses = ('Bus1', 'Bus2', 'Bus3', 'Bus4', 'Bus4','Bus5','Bus6','Bus7','Bus8','Bus9')\n",
        "y_pos = np.arange(len(buses)-1)\n",
        "fig = plt.figure()\n",
        "\n",
        "ACC_rf_results = [j *100 for j in ACC_rf]\n",
        "pmd_rf_results=[j *100 for j in pmd_rf]\n",
        "pf_rf_results=[j *100 for j in pf_rf]\n",
        "pd_rf_results=[j *100 for j in pd_rf]\n",
        "\n",
        "fig = plt.figure()\n",
        "fig.subplots_adjust( right=3, top=1)\n",
        "ax = fig.add_subplot(1, 3, 1)\n",
        "ax.bar(y_pos, ACC_rf_results, align='center', alpha=0.8, color='b')\n",
        "ax.set_xticks(np.arange(len(buses)))\n",
        "ax.set_xticklabels(('Bus1', 'Bus2', 'Bus3', 'Bus4','Bus5','Bus6','Bus7','Bus8','Bus9'), minor=False)\n",
        "ax.set_ylabel('Accuracy (%)')\n",
        "ax.set_title('RF')\n",
        "\n",
        "fig = plt.figure()\n",
        "fig.subplots_adjust( right=3, top=1)\n",
        "ax = fig.add_subplot(1, 3, 1)\n",
        "ax.bar(y_pos, pd_rf_results, align='center', alpha=0.8, color='orange')\n",
        "ax.set_xticks(np.arange(len(buses)))\n",
        "ax.set_xticklabels(('Bus1', 'Bus2', 'Bus3', 'Bus4','Bus5','Bus6','Bus7','Bus8','Bus9'), minor=False)\n",
        "ax.set_ylabel('Probability of detection (%)')\n",
        "ax.set_title('RF')\n",
        "\n",
        "fig = plt.figure()\n",
        "fig.subplots_adjust( right=3, top=1)\n",
        "ax = fig.add_subplot(1, 3, 1)\n",
        "ax.bar(y_pos, pmd_rf_results, align='center', alpha=0.8, color='y')\n",
        "ax.set_xticks(np.arange(len(buses)))\n",
        "ax.set_xticklabels(('Bus1', 'Bus2', 'Bus3', 'Bus4','Bus5','Bus6','Bus7','Bus8','Bus9'), minor=False)\n",
        "ax.set_ylabel('Probability of miss detection (%)')\n",
        "ax.set_title('RF')\n",
        "\n",
        "fig = plt.figure()\n",
        "fig.subplots_adjust( right=3, top=1)\n",
        "ax = fig.add_subplot(1, 3, 1)\n",
        "ax.bar(y_pos, pf_rf_results, align='center', alpha=0.8, color='g')\n",
        "ax.set_xticks(np.arange(len(buses)))\n",
        "ax.set_xticklabels(('Bus1', 'Bus2', 'Bus3', 'Bus4','Bus5','Bus6','Bus7','Bus8','Bus9'), minor=False)\n",
        "ax.set_ylabel('Probability of false alarm (%)')\n",
        "ax.set_title('RF')"
      ],
      "execution_count": 0,
      "outputs": [
        {
          "output_type": "execute_result",
          "data": {
            "text/plain": [
              "Text(0.5, 1.0, 'RF')"
            ]
          },
          "metadata": {
            "tags": []
          },
          "execution_count": 43
        },
        {
          "output_type": "display_data",
          "data": {
            "text/plain": [
              "<Figure size 432x288 with 0 Axes>"
            ]
          },
          "metadata": {
            "tags": []
          }
        },
        {
          "output_type": "display_data",
          "data": {
            "image/png": "[encoded data removed]",
            "text/plain": [
              "<Figure size 432x288 with 1 Axes>"
            ]
          },
          "metadata": {
            "tags": []
          }
        },
        {
          "output_type": "display_data",
          "data": {
            "image/png": "[encoded data removed]",
            "text/plain": [
              "<Figure size 432x288 with 1 Axes>"
            ]
          },
          "metadata": {
            "tags": []
          }
        },
        {
          "output_type": "display_data",
          "data": {
            "image/png": "[encoded data removed]",
            "text/plain": [
              "<Figure size 432x288 with 1 Axes>"
            ]
          },
          "metadata": {
            "tags": []
          }
        },
        {
          "output_type": "display_data",
          "data": {
            "image/png": "[encoded data removed]",
            "text/plain": [
              "<Figure size 432x288 with 1 Axes>"
            ]
          },
          "metadata": {
            "tags": []
          }
        }
      ]
    },
    {
      "cell_type": "code",
      "metadata": {
        "id": "qgw395oOOG9T",
        "colab_type": "code",
        "colab": {}
      },
      "source": [
        "!pip install -U git+https://github.com/scikit-multiflow/scikit-multiflow"
      ],
      "execution_count": 0,
      "outputs": []
    },
    {
      "cell_type": "code",
      "metadata": {
        "id": "XOqDU-sSMVa3",
        "colab_type": "code",
        "outputId": "de642fb8-e081-4080-b9ad-c05a5a678238",
        "colab": {
          "base_uri": "https://localhost:8080/",
          "height": 34
        }
      },
      "source": [
        "#HT\n",
        "from skmultiflow.trees import HoeffdingTreeClassifier\n",
        "ht=HoeffdingTreeClassifier()\n",
        "ht.fit(X_train,y_train)\n",
        "ht_prediction=ht.predict(X_test)\n",
        "accuracy_ht=accuracy_score(y_test,ht_prediction)\n",
        "print(\"Accuracy (%): \"+str(accuracy_ht))\n",
        "\n",
        "\n",
        "#confusion matrix\n",
        "cnf_matrix = confusion_matrix(y_test, ht_prediction)\n",
        "\n",
        "FP = cnf_matrix.sum(axis=0) - np.diag(cnf_matrix)  \n",
        "FN = cnf_matrix.sum(axis=1) - np.diag(cnf_matrix)\n",
        "TP = np.diag(cnf_matrix)\n",
        "TN = cnf_matrix.sum() - (FP + FN + TP)\n",
        "\n",
        "\n",
        "FP = FP.astype(float)\n",
        "FN = FN.astype(float)\n",
        "TP = TP.astype(float)\n",
        "TN = TN.astype(float)\n",
        "\n",
        "# Sensitivity, hit rate, recall, or true positive rate\n",
        "TPR = TP/(TP+FN)\n",
        "# Specificity or true negative rate\n",
        "TNR = TN/(TN+FP) \n",
        "# Precision or positive predictive value\n",
        "PPV = TP/(TP+FP)\n",
        "# Negative predictive value\n",
        "NPV = TN/(TN+FN)\n",
        "# Fall out or false positive rate\n",
        "FPR = FP/(FP+TN)\n",
        "# False negative rate\n",
        "FNR = FN/(TP+FN)\n",
        "# False discovery rate\n",
        "FDR = FP/(TP+FP)\n",
        "# Overall accuracy\n",
        "ACC_ht = (TP+TN)/(TP+FP+FN+TN)\n",
        "\n",
        "pmd_ht=FN/(TP+FN)\n",
        "\n",
        "pd_ht=TP/(TP+FN)\n",
        "\n",
        "pf_ht=FP/(FP+TN)\n",
        "\n"
      ],
      "execution_count": 0,
      "outputs": [
        {
          "output_type": "stream",
          "text": [
            "Accuracy (%): 0.20352358230868048\n"
          ],
          "name": "stdout"
        }
      ]
    },
    {
      "cell_type": "code",
      "metadata": {
        "id": "OY1A0hOCUWMP",
        "colab_type": "code",
        "outputId": "9fb11360-6754-4e4c-8689-3882d701e7bd",
        "colab": {
          "base_uri": "https://localhost:8080/",
          "height": 1000
        }
      },
      "source": [
        "buses = ('Bus1', 'Bus2', 'Bus3', 'Bus4', 'Bus4','Bus5','Bus6','Bus7','Bus8','Bus9')\n",
        "y_pos = np.arange(len(buses)-1)\n",
        "fig = plt.figure()\n",
        "\n",
        "ACC_ht_results = [j *100 for j in ACC_ht]\n",
        "pmd_ht_results=[j *100 for j in pmd_ht]\n",
        "pf_ht_results=[j *100 for j in pf_ht]\n",
        "pd_ht_results=[j *100 for j in pd_ht]\n",
        "\n",
        "\n",
        "fig = plt.figure()\n",
        "fig.subplots_adjust( right=3, top=1)\n",
        "ax = fig.add_subplot(1, 3, 1)\n",
        "ax.bar(y_pos, ACC_ht_results, align='center', alpha=0.8, color='b')\n",
        "ax.set_xticks(np.arange(len(buses)))\n",
        "ax.set_xticklabels(('Bus1', 'Bus2', 'Bus3', 'Bus4','Bus5','Bus6','Bus7','Bus8','Bus9'), minor=False)\n",
        "ax.set_ylabel('Accuracy (%)')\n",
        "ax.set_title('HT')\n",
        "\n",
        "fig = plt.figure()\n",
        "fig.subplots_adjust( right=3, top=1)\n",
        "ax = fig.add_subplot(1, 3, 1)\n",
        "ax.bar(y_pos, pd_ht_results, align='center', alpha=0.8, color='orange')\n",
        "ax.set_xticks(np.arange(len(buses)))\n",
        "ax.set_xticklabels(('Bus1', 'Bus2', 'Bus3', 'Bus4','Bus5','Bus6','Bus7','Bus8','Bus9'), minor=False)\n",
        "ax.set_ylabel('Probability of detection (%)')\n",
        "ax.set_title('HT')\n",
        "\n",
        "fig = plt.figure()\n",
        "fig.subplots_adjust( right=3, top=1)\n",
        "ax = fig.add_subplot(1, 3, 1)\n",
        "ax.bar(y_pos, pmd_ht_results, align='center', alpha=0.8, color='y')\n",
        "ax.set_xticks(np.arange(len(buses)))\n",
        "ax.set_xticklabels(('Bus1', 'Bus2', 'Bus3', 'Bus4','Bus5','Bus6','Bus7','Bus8','Bus9'), minor=False)\n",
        "ax.set_ylabel('Probability of miss detection (%)')\n",
        "ax.set_title('HT')\n",
        "\n",
        "fig = plt.figure()\n",
        "fig.subplots_adjust( right=3, top=1)\n",
        "ax = fig.add_subplot(1, 3, 1)\n",
        "ax.bar(y_pos, pf_ht_results, align='center', alpha=0.8, color='g')\n",
        "ax.set_xticks(np.arange(len(buses)))\n",
        "ax.set_xticklabels(('Bus1', 'Bus2', 'Bus3', 'Bus4','Bus5','Bus6','Bus7','Bus8','Bus9'), minor=False)\n",
        "ax.set_ylabel('Probability of false alarm (%)')\n",
        "ax.set_title('HT')"
      ],
      "execution_count": 0,
      "outputs": [
        {
          "output_type": "execute_result",
          "data": {
            "text/plain": [
              "Text(0.5, 1.0, 'HT')"
            ]
          },
          "metadata": {
            "tags": []
          },
          "execution_count": 51
        },
        {
          "output_type": "display_data",
          "data": {
            "text/plain": [
              "<Figure size 432x288 with 0 Axes>"
            ]
          },
          "metadata": {
            "tags": []
          }
        },
        {
          "output_type": "display_data",
          "data": {
            "image/png": "[encoded data removed]",
            "text/plain": [
              "<Figure size 432x288 with 1 Axes>"
            ]
          },
          "metadata": {
            "tags": []
          }
        },
        {
          "output_type": "display_data",
          "data": {
            "image/png": "[encoded data removed]",
            "text/plain": [
              "<Figure size 432x288 with 1 Axes>"
            ]
          },
          "metadata": {
            "tags": []
          }
        },
        {
          "output_type": "display_data",
          "data": {
            "image/png": "[encoded data removed]",
            "text/plain": [
              "<Figure size 432x288 with 1 Axes>"
            ]
          },
          "metadata": {
            "tags": []
          }
        },
        {
          "output_type": "display_data",
          "data": {
            "image/png": "[encoded data removed]",
            "text/plain": [
              "<Figure size 432x288 with 1 Axes>"
            ]
          },
          "metadata": {
            "tags": []
          }
        }
      ]
    }
  ]
}