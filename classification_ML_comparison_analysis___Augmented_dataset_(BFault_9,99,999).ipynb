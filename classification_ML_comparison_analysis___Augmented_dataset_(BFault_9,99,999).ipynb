{
  "nbformat": 4,
  "nbformat_minor": 0,
  "metadata": {
    "colab": {
      "name": "classification : ML comparison analysis _ Augmented dataset (BFault 9,99,999).ipynb",
      "provenance": [],
      "collapsed_sections": [],
      "authorship_tag": "ABX9TyPTfPXLvcSyQtsIZxdG80n4",
      "include_colab_link": true
    },
    "kernelspec": {
      "name": "python3",
      "display_name": "Python 3"
    }
  },
  "cells": [
    {
      "cell_type": "markdown",
      "metadata": {
        "id": "view-in-github",
        "colab_type": "text"
      },
      "source": [
        "<a href=\"https://colab.research.google.com/github/zakaria-grid/ML-GridPack/blob/ML_classification_fault_location/classification_ML_comparison_analysis___Augmented_dataset_(BFault_9%2C99%2C999).ipynb\" target=\"_parent\"><img src=\"https://colab.research.google.com/assets/colab-badge.svg\" alt=\"Open In Colab\"/></a>"
      ]
    },
    {
      "cell_type": "code",
      "metadata": {
        "id": "qDoduNSxDKf9",
        "colab_type": "code",
        "outputId": "a38c3090-8e16-4d22-9669-10de0bb40221",
        "colab": {
          "base_uri": "https://localhost:8080/",
          "height": 232
        }
      },
      "source": [
        "import tensorflow as tf\n",
        "import numpy as np\n",
        "import pandas\n",
        "from keras.models import Sequential\n",
        "from keras.layers import Dense\n",
        "from keras.wrappers.scikit_learn import KerasClassifier\n",
        "from keras.utils import np_utils\n",
        "from sklearn.model_selection import cross_val_score, KFold, train_test_split, learning_curve\n",
        "from sklearn.preprocessing import LabelEncoder\n",
        "from sklearn.pipeline import Pipeline\n",
        "from google.colab import drive\n",
        "import seaborn as sns \n",
        "import matplotlib.pyplot as plt\n",
        "from sklearn.metrics import classification_report,multilabel_confusion_matrix,confusion_matrix,accuracy_score, mean_squared_error, explained_variance_score, make_scorer, mean_absolute_error, r2_score\n",
        "from sklearn.neural_network import MLPClassifier\n",
        "from keras.models import Sequential\n",
        "from keras.layers import Dense\n",
        "from keras.wrappers.scikit_learn import KerasRegressor\n",
        "from keras.utils import np_utils\n",
        "from sklearn.neighbors import KNeighborsClassifier \n",
        "from sklearn.svm import SVC\n",
        "from sklearn import linear_model\n",
        "from sklearn.tree import DecisionTreeClassifier\n",
        "from sklearn.ensemble import RandomForestClassifier\n",
        "from sklearn.naive_bayes import GaussianNB\n",
        "\n",
        "drive.mount('/content/gdrive')\n",
        "%cd '/content/gdrive/My Drive/GridPack_Dataset'"
      ],
      "execution_count": 3,
      "outputs": [
        {
          "output_type": "display_data",
          "data": {
            "text/html": [
              "<p style=\"color: red;\">\n",
              "The default version of TensorFlow in Colab will soon switch to TensorFlow 2.x.<br>\n",
              "We recommend you <a href=\"https://www.tensorflow.org/guide/migrate\" target=\"_blank\">upgrade</a> now \n",
              "or ensure your notebook will continue to use TensorFlow 1.x via the <code>%tensorflow_version 1.x</code> magic:\n",
              "<a href=\"https://colab.research.google.com/notebooks/tensorflow_version.ipynb\" target=\"_blank\">more info</a>.</p>\n"
            ],
            "text/plain": [
              "<IPython.core.display.HTML object>"
            ]
          },
          "metadata": {
            "tags": []
          }
        },
        {
          "output_type": "stream",
          "text": [
            "Using TensorFlow backend.\n"
          ],
          "name": "stderr"
        },
        {
          "output_type": "stream",
          "text": [
            "Go to this URL in a browser: https://accounts.google.com/o/oauth2/auth?client_id=947318989803-6bn6qk8qdgf4n4g3pfee6491hc0brc4i.apps.googleusercontent.com&redirect_uri=urn%3aietf%3awg%3aoauth%3a2.0%3aoob&response_type=code&scope=email%20https%3a%2f%2fwww.googleapis.com%2fauth%2fdocs.test%20https%3a%2f%2fwww.googleapis.com%2fauth%2fdrive%20https%3a%2f%2fwww.googleapis.com%2fauth%2fdrive.photos.readonly%20https%3a%2f%2fwww.googleapis.com%2fauth%2fpeopleapi.readonly\n",
            "\n",
            "Enter your authorization code:\n",
            "··········\n",
            "Mounted at /content/gdrive\n",
            "/content/gdrive/My Drive/GridPack_Dataset\n"
          ],
          "name": "stdout"
        }
      ]
    },
    {
      "cell_type": "code",
      "metadata": {
        "id": "IiExBULvDb01",
        "colab_type": "code",
        "colab": {}
      },
      "source": [
        "dataframe = pandas.read_csv(\"all_buses_bf_9_99_999_classification.csv\")\n",
        "\n",
        "\n",
        "dataset = dataframe.values\n",
        "X = dataset[2:,1:22].astype(float)\n",
        "y = dataset[2:,22].astype(float)\n",
        "\n",
        "\n",
        "#Split the data into trining and testing parts\n",
        "from sklearn.model_selection import train_test_split\n",
        "X_train, X_test, y_train, y_test = train_test_split(X, y, test_size=0.3)"
      ],
      "execution_count": 0,
      "outputs": []
    },
    {
      "cell_type": "code",
      "metadata": {
        "id": "ye--BDEPDeJw",
        "colab_type": "code",
        "outputId": "9fccfa12-8ac8-4080-fff4-83cd0aff7d56",
        "colab": {
          "base_uri": "https://localhost:8080/",
          "height": 221
        }
      },
      "source": [
        "# Neural Network (MLP)\n",
        "\n",
        "nn=MLPClassifier(max_iter=1000, activation='relu').fit(X_train,y_train)\n",
        "nn_prediction = nn.predict(X_test)\n",
        "accuracy_nn=accuracy_score(y_test,nn_prediction)\n",
        "print(\"Accuracy (%): \"+str(accuracy_nn)) \n",
        "\n",
        "nn_2=MLPClassifier(max_iter=1000, activation='tanh').fit(X_train,y_train)\n",
        "nn_prediction2 = nn_2.predict(X_test)\n",
        "accuracy_nn_2=accuracy_score(y_test,nn_prediction2)\n",
        "print(\"Accuracy (%) \"+str(accuracy_nn_2)) \n",
        "\n",
        "#confusion matrix and TP, FP, FN, FP\n",
        "\n",
        "\n",
        "cnf_matrix = confusion_matrix(y_test, nn_prediction)\n",
        "\n",
        "FP = cnf_matrix.sum(axis=0) - np.diag(cnf_matrix)  \n",
        "FN = cnf_matrix.sum(axis=1) - np.diag(cnf_matrix)\n",
        "TP = np.diag(cnf_matrix)\n",
        "TN = cnf_matrix.sum() - (FP + FN + TP)\n",
        "\n",
        "FP = FP.astype(float)\n",
        "FN = FN.astype(float)\n",
        "TP = TP.astype(float)\n",
        "TN = TN.astype(float)\n",
        "\n",
        "# Sensitivity, hit rate, recall, or true positive rate\n",
        "TPR = TP/(TP+FN)\n",
        "print(TPR)\n",
        "# Specificity or true negative rate\n",
        "TNR = TN/(TN+FP) \n",
        "# Precision or positive predictive value\n",
        "PPV = TP/(TP+FP)\n",
        "# Negative predictive value\n",
        "NPV = TN/(TN+FN)\n",
        "# Fall out or false positive rate\n",
        "FPR = FP/(FP+TN)\n",
        "# False negative rate\n",
        "FNR = FN/(TP+FN)\n",
        "# False discovery rate\n",
        "FDR = FP/(TP+FP)\n",
        "# Overall accuracy\n",
        "ACC = (TP+TN)/(TP+FP+FN+TN)\n",
        "\n",
        "\n",
        "pmd=FN/(TP+FN)\n",
        "print (\"Probability of miss detection (%)\"+str(pmd*100))\n",
        "\n",
        "pd=TP/(TP+FN)\n",
        "print (\"Probability of  detection (%)\"+str(pd*100))\n",
        "\n",
        "pf=FP/(FP+TN)\n",
        "print (\"Probability of false alarm (%)\"+str(pf*100))\n",
        "\n",
        "print('accuracy (%) '+str(ACC))"
      ],
      "execution_count": 70,
      "outputs": [
        {
          "output_type": "stream",
          "text": [
            "Accuracy (%): 0.8504312717929895\n",
            "Accuracy (%) 0.8018902550926775\n",
            "[0.81738544 0.81148122 0.93943662 0.81373391 0.97103129 0.8464991\n",
            " 0.88685814 0.69190601 0.90376203]\n",
            "Probability of miss detection (%)[18.26145553 18.8518781   6.05633803 18.62660944  2.89687138 15.35008977\n",
            " 11.31418625 30.80939948  9.62379703]\n",
            "Probability of  detection (%)[81.73854447 81.1481219  93.94366197 81.37339056 97.10312862 84.64991023\n",
            " 88.68581375 69.19060052 90.37620297]\n",
            "Probability of false alarm (%)[0.84979817 1.42299989 1.43490188 2.98982842 1.48480319 1.42068684\n",
            " 2.75925736 2.93363422 1.48641722]\n",
            "accuracy (%) [0.96779226 0.96320426 0.97962929 0.95338594 0.98403377 0.97155441\n",
            " 0.96338778 0.94127363 0.97660121]\n"
          ],
          "name": "stdout"
        }
      ]
    },
    {
      "cell_type": "code",
      "metadata": {
        "id": "pKPWmjw7HeuQ",
        "colab_type": "code",
        "colab": {
          "base_uri": "https://localhost:8080/",
          "height": 948
        },
        "outputId": "8d1e6a46-84f7-4911-b702-698ac753e4f4"
      },
      "source": [
        "buses = ('Bus1', 'Bus2', 'Bus3', 'Bus4', 'Bus4','Bus5','Bus6','Bus7','Bus8','Bus9')\n",
        "y_pos = np.arange(len(buses)-1)\n",
        "fig = plt.figure()\n",
        "\n",
        "ACC_results = [j *100 for j in ACC]\n",
        "pmd_results=[j *100 for j in pmd]\n",
        "pf_results=[j *100 for j in pf]\n",
        "\n",
        "fig = plt.figure()\n",
        "fig.subplots_adjust( right=3, top=1)\n",
        "ax = fig.add_subplot(1, 3, i)\n",
        "ax.bar(y_pos, ACC_results, align='center', alpha=0.8, color='b')\n",
        "ax.set_xticks(np.arange(len(buses)))\n",
        "ax.set_xticklabels(('Bus1', 'Bus2', 'Bus3', 'Bus4','Bus5','Bus6','Bus7','Bus8','Bus9'), minor=False)\n",
        "ax.set_ylabel('Accuracy (%)')\n",
        "ax.set_title('Neural Network')\n",
        "\n",
        "\n",
        "fig = plt.figure()\n",
        "fig.subplots_adjust( right=3, top=1)\n",
        "ax = fig.add_subplot(1, 3, i)\n",
        "ax.bar(y_pos, pmd_results, align='center', alpha=0.8, color='y')\n",
        "ax.set_xticks(np.arange(len(buses)))\n",
        "ax.set_xticklabels(('Bus1', 'Bus2', 'Bus3', 'Bus4','Bus5','Bus6','Bus7','Bus8','Bus9'), minor=False)\n",
        "ax.set_ylabel('Probability of miss detection (%)')\n",
        "ax.set_title('Neural Network')\n",
        "\n",
        "fig = plt.figure()\n",
        "fig.subplots_adjust( right=3, top=1)\n",
        "ax = fig.add_subplot(1, 3, i)\n",
        "ax.bar(y_pos, pf_results, align='center', alpha=0.8, color='g')\n",
        "ax.set_xticks(np.arange(len(buses)))\n",
        "ax.set_xticklabels(('Bus1', 'Bus2', 'Bus3', 'Bus4','Bus5','Bus6','Bus7','Bus8','Bus9'), minor=False)\n",
        "ax.set_ylabel('Probability of false alarm (%)')\n",
        "ax.set_title('Neural Network')"
      ],
      "execution_count": 75,
      "outputs": [
        {
          "output_type": "execute_result",
          "data": {
            "text/plain": [
              "Text(0.5, 1.0, 'Neural Network')"
            ]
          },
          "metadata": {
            "tags": []
          },
          "execution_count": 75
        },
        {
          "output_type": "display_data",
          "data": {
            "text/plain": [
              "<Figure size 432x288 with 0 Axes>"
            ]
          },
          "metadata": {
            "tags": []
          }
        },
        {
          "output_type": "display_data",
          "data": {
            "image/png": "[encoded data removed]",
            "text/plain": [
              "<Figure size 432x288 with 1 Axes>"
            ]
          },
          "metadata": {
            "tags": []
          }
        },
        {
          "output_type": "display_data",
          "data": {
            "image/png": "[encoded data removed]",
            "text/plain": [
              "<Figure size 432x288 with 1 Axes>"
            ]
          },
          "metadata": {
            "tags": []
          }
        },
        {
          "output_type": "display_data",
          "data": {
            "image/png": "[encoded data removed]",
            "text/plain": [
              "<Figure size 432x288 with 1 Axes>"
            ]
          },
          "metadata": {
            "tags": []
          }
        }
      ]
    },
    {
      "cell_type": "code",
      "metadata": {
        "id": "7LTWBTizHeB6",
        "colab_type": "code",
        "outputId": "baf521e4-5edc-49d7-9f4e-40105e4a9d88",
        "colab": {
          "base_uri": "https://localhost:8080/",
          "height": 547
        }
      },
      "source": [
        "#DNN \n",
        "model = Sequential()\n",
        "model.add(Dense(20, input_dim=21, kernel_initializer='normal', activation='relu'))\n",
        "model.add(Dense(50, kernel_initializer='normal', activation='relu'))\n",
        "model.add(Dense(50, kernel_initializer='normal', activation='relu'))\n",
        "model.add(Dense(50, kernel_initializer='normal', activation='relu'))\n",
        "model.add(Dense(50, kernel_initializer='normal', activation='relu'))\n",
        "model.add(Dense(50, kernel_initializer='normal', activation='relu'))\n",
        "model.add(Dense(50, kernel_initializer='normal', activation='relu'))\n",
        "model.add(Dense(1, activation='softmax'))\n",
        "model.compile(loss='mean_squared_error', optimizer='adam', metrics=['accuracy'])\n",
        "\n",
        "history = model.fit(X_train, y_train, validation_data=(X_test, y_test), epochs=500, verbose=0)\n",
        "dnn_prediction=model.predict(X_test)\n",
        "accuracy_dnn=accuracy_score(y_test,dnn_prediction)\n",
        "print(\"Accuracy (%): \"+str(accuracy_dnn)) \n",
        "\n",
        "\n",
        "#confusion matrix and TP, FP, FN, FP\n",
        "\n",
        "\n",
        "cnf_matrix = confusion_matrix(y_test, dnn_prediction)\n",
        "\n",
        "FP = cnf_matrix.sum(axis=0) - np.diag(cnf_matrix)  \n",
        "FN = cnf_matrix.sum(axis=1) - np.diag(cnf_matrix)\n",
        "TP = np.diag(cnf_matrix)\n",
        "TN = cnf_matrix.sum() - (FP + FN + TP)\n",
        "\n",
        "FP = FP.astype(float)\n",
        "FN = FN.astype(float)\n",
        "TP = TP.astype(float)\n",
        "TN = TN.astype(float)\n",
        "\n",
        "# Sensitivity, hit rate, recall, or true positive rate\n",
        "TPR = TP/(TP+FN)\n",
        "# Specificity or true negative rate\n",
        "TNR = TN/(TN+FP) \n",
        "# Precision or positive predictive value\n",
        "PPV = TP/(TP+FP)\n",
        "# Negative predictive value\n",
        "NPV = TN/(TN+FN)\n",
        "# Fall out or false positive rate\n",
        "FPR = FP/(FP+TN)\n",
        "# False negative rate\n",
        "FNR = FN/(TP+FN)\n",
        "# False discovery rate\n",
        "FDR = FP/(TP+FP)\n",
        "# Overall accuracy\n",
        "ACC = (TP+TN)/(TP+FP+FN+TN)"
      ],
      "execution_count": 76,
      "outputs": [
        {
          "output_type": "stream",
          "text": [
            "WARNING:tensorflow:From /usr/local/lib/python3.6/dist-packages/keras/backend/tensorflow_backend.py:66: The name tf.get_default_graph is deprecated. Please use tf.compat.v1.get_default_graph instead.\n",
            "\n",
            "WARNING:tensorflow:From /usr/local/lib/python3.6/dist-packages/keras/backend/tensorflow_backend.py:541: The name tf.placeholder is deprecated. Please use tf.compat.v1.placeholder instead.\n",
            "\n",
            "WARNING:tensorflow:From /usr/local/lib/python3.6/dist-packages/keras/backend/tensorflow_backend.py:4409: The name tf.random_normal is deprecated. Please use tf.random.normal instead.\n",
            "\n",
            "WARNING:tensorflow:From /usr/local/lib/python3.6/dist-packages/keras/backend/tensorflow_backend.py:4432: The name tf.random_uniform is deprecated. Please use tf.random.uniform instead.\n",
            "\n",
            "WARNING:tensorflow:From /usr/local/lib/python3.6/dist-packages/keras/optimizers.py:793: The name tf.train.Optimizer is deprecated. Please use tf.compat.v1.train.Optimizer instead.\n",
            "\n",
            "WARNING:tensorflow:From /usr/local/lib/python3.6/dist-packages/keras/backend/tensorflow_backend.py:1033: The name tf.assign_add is deprecated. Please use tf.compat.v1.assign_add instead.\n",
            "\n",
            "WARNING:tensorflow:From /usr/local/lib/python3.6/dist-packages/keras/backend/tensorflow_backend.py:1020: The name tf.assign is deprecated. Please use tf.compat.v1.assign instead.\n",
            "\n",
            "WARNING:tensorflow:From /usr/local/lib/python3.6/dist-packages/keras/backend/tensorflow_backend.py:3005: The name tf.Session is deprecated. Please use tf.compat.v1.Session instead.\n",
            "\n",
            "WARNING:tensorflow:From /usr/local/lib/python3.6/dist-packages/keras/backend/tensorflow_backend.py:190: The name tf.get_default_session is deprecated. Please use tf.compat.v1.get_default_session instead.\n",
            "\n",
            "WARNING:tensorflow:From /usr/local/lib/python3.6/dist-packages/keras/backend/tensorflow_backend.py:197: The name tf.ConfigProto is deprecated. Please use tf.compat.v1.ConfigProto instead.\n",
            "\n",
            "WARNING:tensorflow:From /usr/local/lib/python3.6/dist-packages/keras/backend/tensorflow_backend.py:207: The name tf.global_variables is deprecated. Please use tf.compat.v1.global_variables instead.\n",
            "\n",
            "WARNING:tensorflow:From /usr/local/lib/python3.6/dist-packages/keras/backend/tensorflow_backend.py:216: The name tf.is_variable_initialized is deprecated. Please use tf.compat.v1.is_variable_initialized instead.\n",
            "\n",
            "WARNING:tensorflow:From /usr/local/lib/python3.6/dist-packages/keras/backend/tensorflow_backend.py:223: The name tf.variables_initializer is deprecated. Please use tf.compat.v1.variables_initializer instead.\n",
            "\n",
            "Accuracy (%): 0.13617177463754818\n"
          ],
          "name": "stdout"
        },
        {
          "output_type": "stream",
          "text": [
            "/usr/local/lib/python3.6/dist-packages/ipykernel_launcher.py:38: RuntimeWarning: invalid value encountered in true_divide\n",
            "/usr/local/lib/python3.6/dist-packages/ipykernel_launcher.py:40: RuntimeWarning: invalid value encountered in true_divide\n",
            "/usr/local/lib/python3.6/dist-packages/ipykernel_launcher.py:46: RuntimeWarning: invalid value encountered in true_divide\n"
          ],
          "name": "stderr"
        }
      ]
    },
    {
      "cell_type": "code",
      "metadata": {
        "id": "P1Nn-NpBS7h0",
        "colab_type": "code",
        "colab": {
          "base_uri": "https://localhost:8080/",
          "height": 948
        },
        "outputId": "5743fe36-f267-4de3-97ca-0a20969ade16"
      },
      "source": [
        "buses = ('Bus1', 'Bus2', 'Bus3', 'Bus4', 'Bus4','Bus5','Bus6','Bus7','Bus8','Bus9')\n",
        "y_pos = np.arange(len(buses)-1)\n",
        "fig = plt.figure()\n",
        "\n",
        "ACC_results = [j *100 for j in ACC]\n",
        "pmd_results=[j *100 for j in pmd]\n",
        "pf_results=[j *100 for j in pf]\n",
        "\n",
        "fig = plt.figure()\n",
        "fig.subplots_adjust( right=3, top=1)\n",
        "ax = fig.add_subplot(1, 3, i)\n",
        "ax.bar(y_pos, ACC_results, align='center', alpha=0.8, color='b')\n",
        "ax.set_xticks(np.arange(len(buses)))\n",
        "ax.set_xticklabels(('Bus1', 'Bus2', 'Bus3', 'Bus4','Bus5','Bus6','Bus7','Bus8','Bus9'), minor=False)\n",
        "ax.set_ylabel('Accuracy (%)')\n",
        "ax.set_title('Deep Neural Network')\n",
        "\n",
        "\n",
        "fig = plt.figure()\n",
        "fig.subplots_adjust( right=3, top=1)\n",
        "ax = fig.add_subplot(1, 3, i)\n",
        "ax.bar(y_pos, pmd_results, align='center', alpha=0.8, color='y')\n",
        "ax.set_xticks(np.arange(len(buses)))\n",
        "ax.set_xticklabels(('Bus1', 'Bus2', 'Bus3', 'Bus4','Bus5','Bus6','Bus7','Bus8','Bus9'), minor=False)\n",
        "ax.set_ylabel('Probability of miss detection (%)')\n",
        "ax.set_title('Deep Neural Network')\n",
        "\n",
        "fig = plt.figure()\n",
        "fig.subplots_adjust( right=3, top=1)\n",
        "ax = fig.add_subplot(1, 3, i)\n",
        "ax.bar(y_pos, pf_results, align='center', alpha=0.8, color='g')\n",
        "ax.set_xticks(np.arange(len(buses)))\n",
        "ax.set_xticklabels(('Bus1', 'Bus2', 'Bus3', 'Bus4','Bus5','Bus6','Bus7','Bus8','Bus9'), minor=False)\n",
        "ax.set_ylabel('Probability of false alarm (%)')\n",
        "ax.set_title('Deep Neural Network')"
      ],
      "execution_count": 77,
      "outputs": [
        {
          "output_type": "execute_result",
          "data": {
            "text/plain": [
              "Text(0.5, 1.0, 'Deep Neural Network')"
            ]
          },
          "metadata": {
            "tags": []
          },
          "execution_count": 77
        },
        {
          "output_type": "display_data",
          "data": {
            "text/plain": [
              "<Figure size 432x288 with 0 Axes>"
            ]
          },
          "metadata": {
            "tags": []
          }
        },
        {
          "output_type": "display_data",
          "data": {
            "image/png": "[encoded data removed]",
            "text/plain": [
              "<Figure size 432x288 with 1 Axes>"
            ]
          },
          "metadata": {
            "tags": []
          }
        },
        {
          "output_type": "display_data",
          "data": {
            "image/png": "[encoded data removed]",
            "text/plain": [
              "<Figure size 432x288 with 1 Axes>"
            ]
          },
          "metadata": {
            "tags": []
          }
        },
        {
          "output_type": "display_data",
          "data": {
            "image/png": "[encoded data removed]",
            "text/plain": [
              "<Figure size 432x288 with 1 Axes>"
            ]
          },
          "metadata": {
            "tags": []
          }
        }
      ]
    },
    {
      "cell_type": "code",
      "metadata": {
        "id": "lKuTKj5xHiRx",
        "colab_type": "code",
        "outputId": "c9707b97-bc5d-4060-c031-88da99371966",
        "colab": {
          "base_uri": "https://localhost:8080/",
          "height": 51
        }
      },
      "source": [
        "# training SVC classifier with an RBF kernel\n",
        "svm_model = SVC(kernel = 'rbf', C = 1).fit(X_train, y_train) \n",
        "svm_predictions = svm_model.predict(X_test)  \n",
        "accuracy_svm=accuracy_score(y_test,svm_predictions)\n",
        "print(\"Accuracy (%): \"+str(accuracy_svm)) \n",
        "\n",
        "# training SVR classifier with a linear kernel\n",
        "svm_model_2 = SVC(kernel = 'linear', C = 1).fit(X_train, y_train) \n",
        "svm_predictions_2 = svm_model_2.predict(X_test)  \n",
        "accuracy_svm_2=accuracy_score(y_test,svm_predictions_2)\n",
        "print(\"Accuracy (%): \"+str(accuracy_svm_2)) \n",
        "\n",
        "#confusion matrix\n",
        "cnf_matrix = confusion_matrix(y_test, svm_predictions)\n",
        "\n",
        "FP = cnf_matrix.sum(axis=0) - np.diag(cnf_matrix)  \n",
        "FN = cnf_matrix.sum(axis=1) - np.diag(cnf_matrix)\n",
        "TP = np.diag(cnf_matrix)\n",
        "TN = cnf_matrix.sum() - (FP + FN + TP)\n",
        "\n",
        "FP = FP.astype(float)\n",
        "FN = FN.astype(float)\n",
        "TP = TP.astype(float)\n",
        "TN = TN.astype(float)\n",
        "\n",
        "# Sensitivity, hit rate, recall, or true positive rate\n",
        "TPR = TP/(TP+FN)\n",
        "# Specificity or true negative rate\n",
        "TNR = TN/(TN+FP) \n",
        "# Precision or positive predictive value\n",
        "PPV = TP/(TP+FP)\n",
        "# Negative predictive value\n",
        "NPV = TN/(TN+FN)\n",
        "# Fall out or false positive rate\n",
        "FPR = FP/(FP+TN)\n",
        "# False negative rate\n",
        "FNR = FN/(TP+FN)\n",
        "# False discovery rate\n",
        "FDR = FP/(TP+FP)\n",
        "# Overall accuracy\n",
        "ACC = (TP+TN)/(TP+FP+FN+TN)"
      ],
      "execution_count": 78,
      "outputs": [
        {
          "output_type": "stream",
          "text": [
            "Accuracy (%): 0.2951917783079464\n",
            "Accuracy (%): 0.27537162782161867\n"
          ],
          "name": "stdout"
        }
      ]
    },
    {
      "cell_type": "code",
      "metadata": {
        "id": "YKzwRbrsTGWm",
        "colab_type": "code",
        "colab": {
          "base_uri": "https://localhost:8080/",
          "height": 948
        },
        "outputId": "689829a2-6a28-4d17-a970-d0d6d764b763"
      },
      "source": [
        "buses = ('Bus1', 'Bus2', 'Bus3', 'Bus4', 'Bus4','Bus5','Bus6','Bus7','Bus8','Bus9')\n",
        "y_pos = np.arange(len(buses)-1)\n",
        "fig = plt.figure()\n",
        "\n",
        "ACC_results = [j *100 for j in ACC]\n",
        "pmd_results=[j *100 for j in pmd]\n",
        "pf_results=[j *100 for j in pf]\n",
        "\n",
        "fig = plt.figure()\n",
        "fig.subplots_adjust( right=3, top=1)\n",
        "ax = fig.add_subplot(1, 3, i)\n",
        "ax.bar(y_pos, ACC_results, align='center', alpha=0.8, color='b')\n",
        "ax.set_xticks(np.arange(len(buses)))\n",
        "ax.set_xticklabels(('Bus1', 'Bus2', 'Bus3', 'Bus4','Bus5','Bus6','Bus7','Bus8','Bus9'), minor=False)\n",
        "ax.set_ylabel('Accuracy (%)')\n",
        "ax.set_title('Support Vector Machine')\n",
        "\n",
        "\n",
        "fig = plt.figure()\n",
        "fig.subplots_adjust( right=3, top=1)\n",
        "ax = fig.add_subplot(1, 3, i)\n",
        "ax.bar(y_pos, pmd_results, align='center', alpha=0.8, color='y')\n",
        "ax.set_xticks(np.arange(len(buses)))\n",
        "ax.set_xticklabels(('Bus1', 'Bus2', 'Bus3', 'Bus4','Bus5','Bus6','Bus7','Bus8','Bus9'), minor=False)\n",
        "ax.set_ylabel('Probability of miss detection (%)')\n",
        "ax.set_title('Support Vector Machine')\n",
        "\n",
        "fig = plt.figure()\n",
        "fig.subplots_adjust( right=3, top=1)\n",
        "ax = fig.add_subplot(1, 3, i)\n",
        "ax.bar(y_pos, pf_results, align='center', alpha=0.8, color='g')\n",
        "ax.set_xticks(np.arange(len(buses)))\n",
        "ax.set_xticklabels(('Bus1', 'Bus2', 'Bus3', 'Bus4','Bus5','Bus6','Bus7','Bus8','Bus9'), minor=False)\n",
        "ax.set_ylabel('Probability of false alarm (%)')\n",
        "ax.set_title('Support Vector Machine')"
      ],
      "execution_count": 81,
      "outputs": [
        {
          "output_type": "execute_result",
          "data": {
            "text/plain": [
              "Text(0.5, 1.0, 'Support Vector Machine')"
            ]
          },
          "metadata": {
            "tags": []
          },
          "execution_count": 81
        },
        {
          "output_type": "display_data",
          "data": {
            "text/plain": [
              "<Figure size 432x288 with 0 Axes>"
            ]
          },
          "metadata": {
            "tags": []
          }
        },
        {
          "output_type": "display_data",
          "data": {
            "image/png": "[encoded data removed]",
            "text/plain": [
              "<Figure size 432x288 with 1 Axes>"
            ]
          },
          "metadata": {
            "tags": []
          }
        },
        {
          "output_type": "display_data",
          "data": {
            "image/png": "[encoded data removed]",
            "text/plain": [
              "<Figure size 432x288 with 1 Axes>"
            ]
          },
          "metadata": {
            "tags": []
          }
        },
        {
          "output_type": "display_data",
          "data": {
            "image/png": "[encoded data removed]",
            "text/plain": [
              "<Figure size 432x288 with 1 Axes>"
            ]
          },
          "metadata": {
            "tags": []
          }
        }
      ]
    },
    {
      "cell_type": "code",
      "metadata": {
        "id": "6OoGaxj_HnE8",
        "colab_type": "code",
        "outputId": "b53ff890-463e-4e92-ef81-6ca5122c3531",
        "colab": {
          "base_uri": "https://localhost:8080/",
          "height": 34
        }
      },
      "source": [
        "#KNN\n",
        "knn = KNeighborsClassifier().fit(X_train, y_train) \n",
        "knn_predictions = knn.predict(X_test)  \n",
        "accuracy_knn=accuracy_score(y_test,knn_predictions)\n",
        "print(\"Accuracy (%): \"+str(accuracy_knn)) \n",
        "\n",
        "#confusion matrix\n",
        "cnf_matrix = confusion_matrix(y_test, knn_predictions)\n",
        "\n",
        "FP = cnf_matrix.sum(axis=0) - np.diag(cnf_matrix)  \n",
        "FN = cnf_matrix.sum(axis=1) - np.diag(cnf_matrix)\n",
        "TP = np.diag(cnf_matrix)\n",
        "TN = cnf_matrix.sum() - (FP + FN + TP)\n",
        "\n",
        "FP = FP.astype(float)\n",
        "FN = FN.astype(float)\n",
        "TP = TP.astype(float)\n",
        "TN = TN.astype(float)\n",
        "\n",
        "# Sensitivity, hit rate, recall, or true positive rate\n",
        "TPR = TP/(TP+FN)\n",
        "# Specificity or true negative rate\n",
        "TNR = TN/(TN+FP) \n",
        "# Precision or positive predictive value\n",
        "PPV = TP/(TP+FP)\n",
        "# Negative predictive value\n",
        "NPV = TN/(TN+FN)\n",
        "# Fall out or false positive rate\n",
        "FPR = FP/(FP+TN)\n",
        "# False negative rate\n",
        "FNR = FN/(TP+FN)\n",
        "# False discovery rate\n",
        "FDR = FP/(TP+FP)\n",
        "# Overall accuracy\n",
        "ACC = (TP+TN)/(TP+FP+FN+TN)"
      ],
      "execution_count": 82,
      "outputs": [
        {
          "output_type": "stream",
          "text": [
            "Accuracy (%): 0.4494402642686732\n"
          ],
          "name": "stdout"
        }
      ]
    },
    {
      "cell_type": "code",
      "metadata": {
        "id": "P46-iCoqTPEQ",
        "colab_type": "code",
        "colab": {
          "base_uri": "https://localhost:8080/",
          "height": 948
        },
        "outputId": "605c533a-edda-42af-cd4c-b87f7cc515b9"
      },
      "source": [
        "buses = ('Bus1', 'Bus2', 'Bus3', 'Bus4', 'Bus4','Bus5','Bus6','Bus7','Bus8','Bus9')\n",
        "y_pos = np.arange(len(buses)-1)\n",
        "fig = plt.figure()\n",
        "\n",
        "ACC_results = [j *100 for j in ACC]\n",
        "pmd_results=[j *100 for j in pmd]\n",
        "pf_results=[j *100 for j in pf]\n",
        "\n",
        "fig = plt.figure()\n",
        "fig.subplots_adjust( right=3, top=1)\n",
        "ax = fig.add_subplot(1, 3, i)\n",
        "ax.bar(y_pos, ACC_results, align='center', alpha=0.8, color='b')\n",
        "ax.set_xticks(np.arange(len(buses)))\n",
        "ax.set_xticklabels(('Bus1', 'Bus2', 'Bus3', 'Bus4','Bus5','Bus6','Bus7','Bus8','Bus9'), minor=False)\n",
        "ax.set_ylabel('Accuracy (%)')\n",
        "ax.set_title('KNN')\n",
        "\n",
        "\n",
        "fig = plt.figure()\n",
        "fig.subplots_adjust( right=3, top=1)\n",
        "ax = fig.add_subplot(1, 3, i)\n",
        "ax.bar(y_pos, pmd_results, align='center', alpha=0.8, color='y')\n",
        "ax.set_xticks(np.arange(len(buses)))\n",
        "ax.set_xticklabels(('Bus1', 'Bus2', 'Bus3', 'Bus4','Bus5','Bus6','Bus7','Bus8','Bus9'), minor=False)\n",
        "ax.set_ylabel('Probability of miss detection (%)')\n",
        "ax.set_title('KNN')\n",
        "\n",
        "fig = plt.figure()\n",
        "fig.subplots_adjust( right=3, top=1)\n",
        "ax = fig.add_subplot(1, 3, i)\n",
        "ax.bar(y_pos, pf_results, align='center', alpha=0.8, color='g')\n",
        "ax.set_xticks(np.arange(len(buses)))\n",
        "ax.set_xticklabels(('Bus1', 'Bus2', 'Bus3', 'Bus4','Bus5','Bus6','Bus7','Bus8','Bus9'), minor=False)\n",
        "ax.set_ylabel('Probability of false alarm (%)')\n",
        "ax.set_title('KNN')"
      ],
      "execution_count": 83,
      "outputs": [
        {
          "output_type": "execute_result",
          "data": {
            "text/plain": [
              "Text(0.5, 1.0, 'KNN')"
            ]
          },
          "metadata": {
            "tags": []
          },
          "execution_count": 83
        },
        {
          "output_type": "display_data",
          "data": {
            "text/plain": [
              "<Figure size 432x288 with 0 Axes>"
            ]
          },
          "metadata": {
            "tags": []
          }
        },
        {
          "output_type": "display_data",
          "data": {
            "image/png": "[encoded data removed]",
            "text/plain": [
              "<Figure size 432x288 with 1 Axes>"
            ]
          },
          "metadata": {
            "tags": []
          }
        },
        {
          "output_type": "display_data",
          "data": {
            "image/png": "[encoded data removed]",
            "text/plain": [
              "<Figure size 432x288 with 1 Axes>"
            ]
          },
          "metadata": {
            "tags": []
          }
        },
        {
          "output_type": "display_data",
          "data": {
            "image/png": "[encoded data removed]",
            "text/plain": [
              "<Figure size 432x288 with 1 Axes>"
            ]
          },
          "metadata": {
            "tags": []
          }
        }
      ]
    },
    {
      "cell_type": "code",
      "metadata": {
        "id": "LHUi3WMcHqBP",
        "colab_type": "code",
        "outputId": "4cd22f48-994f-4eb7-b0d7-0d3693601838",
        "colab": {
          "base_uri": "https://localhost:8080/",
          "height": 34
        }
      },
      "source": [
        "#NB\n",
        "gnb =GaussianNB().fit(X_train, y_train) \n",
        "gnb_predictions = gnb.predict(X_test) \n",
        "accuracy_nb=accuracy_score(y_test,gnb_predictions)\n",
        "print(\"Accuracy (%): \"+str(accuracy_nb)) \n",
        "\n",
        "#confusion matrix\n",
        "cnf_matrix = confusion_matrix(y_test, gnb_predictions)\n",
        "\n",
        "FP = cnf_matrix.sum(axis=0) - np.diag(cnf_matrix)  \n",
        "FN = cnf_matrix.sum(axis=1) - np.diag(cnf_matrix)\n",
        "TP = np.diag(cnf_matrix)\n",
        "TN = cnf_matrix.sum() - (FP + FN + TP)\n",
        "\n",
        "\n",
        "FP = FP.astype(float)\n",
        "FN = FN.astype(float)\n",
        "TP = TP.astype(float)\n",
        "TN = TN.astype(float)\n",
        "\n",
        "# Sensitivity, hit rate, recall, or true positive rate\n",
        "TPR = TP/(TP+FN)\n",
        "# Specificity or true negative rate\n",
        "TNR = TN/(TN+FP) \n",
        "# Precision or positive predictive value\n",
        "PPV = TP/(TP+FP)\n",
        "# Negative predictive value\n",
        "NPV = TN/(TN+FN)\n",
        "# Fall out or false positive rate\n",
        "FPR = FP/(FP+TN)\n",
        "# False negative rate\n",
        "FNR = FN/(TP+FN)\n",
        "# False discovery rate\n",
        "FDR = FP/(TP+FP)\n",
        "# Overall accuracy\n",
        "ACC = (TP+TN)/(TP+FP+FN+TN)"
      ],
      "execution_count": 84,
      "outputs": [
        {
          "output_type": "stream",
          "text": [
            "Accuracy (%): 0.1953569462286658\n"
          ],
          "name": "stdout"
        }
      ]
    },
    {
      "cell_type": "code",
      "metadata": {
        "id": "zH0PfxZATpaJ",
        "colab_type": "code",
        "colab": {
          "base_uri": "https://localhost:8080/",
          "height": 948
        },
        "outputId": "e45284fa-fc3c-4cf2-bee6-1980dd90c71d"
      },
      "source": [
        "buses = ('Bus1', 'Bus2', 'Bus3', 'Bus4', 'Bus4','Bus5','Bus6','Bus7','Bus8','Bus9')\n",
        "y_pos = np.arange(len(buses)-1)\n",
        "fig = plt.figure()\n",
        "\n",
        "ACC_results = [j *100 for j in ACC]\n",
        "pmd_results=[j *100 for j in pmd]\n",
        "pf_results=[j *100 for j in pf]\n",
        "\n",
        "fig = plt.figure()\n",
        "fig.subplots_adjust( right=3, top=1)\n",
        "ax = fig.add_subplot(1, 3, i)\n",
        "ax.bar(y_pos, ACC_results, align='center', alpha=0.8, color='b')\n",
        "ax.set_xticks(np.arange(len(buses)))\n",
        "ax.set_xticklabels(('Bus1', 'Bus2', 'Bus3', 'Bus4','Bus5','Bus6','Bus7','Bus8','Bus9'), minor=False)\n",
        "ax.set_ylabel('Accuracy (%)')\n",
        "ax.set_title('NB')\n",
        "\n",
        "\n",
        "fig = plt.figure()\n",
        "fig.subplots_adjust( right=3, top=1)\n",
        "ax = fig.add_subplot(1, 3, i)\n",
        "ax.bar(y_pos, pmd_results, align='center', alpha=0.8, color='y')\n",
        "ax.set_xticks(np.arange(len(buses)))\n",
        "ax.set_xticklabels(('Bus1', 'Bus2', 'Bus3', 'Bus4','Bus5','Bus6','Bus7','Bus8','Bus9'), minor=False)\n",
        "ax.set_ylabel('Probability of miss detection (%)')\n",
        "ax.set_title('NB')\n",
        "\n",
        "fig = plt.figure()\n",
        "fig.subplots_adjust( right=3, top=1)\n",
        "ax = fig.add_subplot(1, 3, i)\n",
        "ax.bar(y_pos, pf_results, align='center', alpha=0.8, color='g')\n",
        "ax.set_xticks(np.arange(len(buses)))\n",
        "ax.set_xticklabels(('Bus1', 'Bus2', 'Bus3', 'Bus4','Bus5','Bus6','Bus7','Bus8','Bus9'), minor=False)\n",
        "ax.set_ylabel('Probability of false alarm (%)')\n",
        "ax.set_title('NB')"
      ],
      "execution_count": 85,
      "outputs": [
        {
          "output_type": "execute_result",
          "data": {
            "text/plain": [
              "Text(0.5, 1.0, 'NB')"
            ]
          },
          "metadata": {
            "tags": []
          },
          "execution_count": 85
        },
        {
          "output_type": "display_data",
          "data": {
            "text/plain": [
              "<Figure size 432x288 with 0 Axes>"
            ]
          },
          "metadata": {
            "tags": []
          }
        },
        {
          "output_type": "display_data",
          "data": {
            "image/png": "[encoded data removed]",
            "text/plain": [
              "<Figure size 432x288 with 1 Axes>"
            ]
          },
          "metadata": {
            "tags": []
          }
        },
        {
          "output_type": "display_data",
          "data": {
            "image/png": "[encoded data removed]",
            "text/plain": [
              "<Figure size 432x288 with 1 Axes>"
            ]
          },
          "metadata": {
            "tags": []
          }
        },
        {
          "output_type": "display_data",
          "data": {
            "image/png": "[encoded data removed]",
            "text/plain": [
              "<Figure size 432x288 with 1 Axes>"
            ]
          },
          "metadata": {
            "tags": []
          }
        }
      ]
    },
    {
      "cell_type": "code",
      "metadata": {
        "id": "OnWfZsVpHrrn",
        "colab_type": "code",
        "outputId": "6d3327af-d71e-42f8-a766-ce2b8bfb39e7",
        "colab": {
          "base_uri": "https://localhost:8080/",
          "height": 68
        }
      },
      "source": [
        "\n",
        "#DT\n",
        "dtree_model = DecisionTreeClassifier(max_depth = 2).fit(X_train, y_train) \n",
        "dtree_prediction = dtree_model.predict(X_test) \n",
        "accuracy_dt=accuracy_score(y_test,dtree_prediction)\n",
        "print(\"Accuracy (%): \"+str(accuracy_dt))\n",
        "\n",
        "#confusion matrix\n",
        "cnf_matrix = confusion_matrix(y_test, dtree_prediction)\n",
        "\n",
        "FP = cnf_matrix.sum(axis=0) - np.diag(cnf_matrix)  \n",
        "FN = cnf_matrix.sum(axis=1) - np.diag(cnf_matrix)\n",
        "TP = np.diag(cnf_matrix)\n",
        "TN = cnf_matrix.sum() - (FP + FN + TP)\n",
        "\n",
        "\n",
        "FP = FP.astype(float)\n",
        "FN = FN.astype(float)\n",
        "TP = TP.astype(float)\n",
        "TN = TN.astype(float)\n",
        "\n",
        "# Sensitivity, hit rate, recall, or true positive rate\n",
        "TPR = TP/(TP+FN)\n",
        "# Specificity or true negative rate\n",
        "TNR = TN/(TN+FP) \n",
        "# Precision or positive predictive value\n",
        "PPV = TP/(TP+FP)\n",
        "# Negative predictive value\n",
        "NPV = TN/(TN+FN)\n",
        "# Fall out or false positive rate\n",
        "FPR = FP/(FP+TN)\n",
        "# False negative rate\n",
        "FNR = FN/(TP+FN)\n",
        "# False discovery rate\n",
        "FDR = FP/(TP+FP)\n",
        "# Overall accuracy\n",
        "ACC = (TP+TN)/(TP+FP+FN+TN)"
      ],
      "execution_count": 86,
      "outputs": [
        {
          "output_type": "stream",
          "text": [
            "Accuracy (%): 0.2505046797577537\n"
          ],
          "name": "stdout"
        },
        {
          "output_type": "stream",
          "text": [
            "/usr/local/lib/python3.6/dist-packages/ipykernel_launcher.py:25: RuntimeWarning: invalid value encountered in true_divide\n",
            "/usr/local/lib/python3.6/dist-packages/ipykernel_launcher.py:33: RuntimeWarning: invalid value encountered in true_divide\n"
          ],
          "name": "stderr"
        }
      ]
    },
    {
      "cell_type": "code",
      "metadata": {
        "id": "Ep5Hr9qQTwAi",
        "colab_type": "code",
        "colab": {
          "base_uri": "https://localhost:8080/",
          "height": 948
        },
        "outputId": "a5d5a745-0da1-455d-e03c-950c5bd2591f"
      },
      "source": [
        "buses = ('Bus1', 'Bus2', 'Bus3', 'Bus4', 'Bus4','Bus5','Bus6','Bus7','Bus8','Bus9')\n",
        "y_pos = np.arange(len(buses)-1)\n",
        "fig = plt.figure()\n",
        "\n",
        "ACC_results = [j *100 for j in ACC]\n",
        "pmd_results=[j *100 for j in pmd]\n",
        "pf_results=[j *100 for j in pf]\n",
        "\n",
        "fig = plt.figure()\n",
        "fig.subplots_adjust( right=3, top=1)\n",
        "ax = fig.add_subplot(1, 3, i)\n",
        "ax.bar(y_pos, ACC_results, align='center', alpha=0.8, color='b')\n",
        "ax.set_xticks(np.arange(len(buses)))\n",
        "ax.set_xticklabels(('Bus1', 'Bus2', 'Bus3', 'Bus4','Bus5','Bus6','Bus7','Bus8','Bus9'), minor=False)\n",
        "ax.set_ylabel('Accuracy (%)')\n",
        "ax.set_title('DT')\n",
        "\n",
        "\n",
        "fig = plt.figure()\n",
        "fig.subplots_adjust( right=3, top=1)\n",
        "ax = fig.add_subplot(1, 3, i)\n",
        "ax.bar(y_pos, pmd_results, align='center', alpha=0.8, color='y')\n",
        "ax.set_xticks(np.arange(len(buses)))\n",
        "ax.set_xticklabels(('Bus1', 'Bus2', 'Bus3', 'Bus4','Bus5','Bus6','Bus7','Bus8','Bus9'), minor=False)\n",
        "ax.set_ylabel('Probability of miss detection (%)')\n",
        "ax.set_title('DT')\n",
        "\n",
        "fig = plt.figure()\n",
        "fig.subplots_adjust( right=3, top=1)\n",
        "ax = fig.add_subplot(1, 3, i)\n",
        "ax.bar(y_pos, pf_results, align='center', alpha=0.8, color='g')\n",
        "ax.set_xticks(np.arange(len(buses)))\n",
        "ax.set_xticklabels(('Bus1', 'Bus2', 'Bus3', 'Bus4','Bus5','Bus6','Bus7','Bus8','Bus9'), minor=False)\n",
        "ax.set_ylabel('Probability of false alarm (%)')\n",
        "ax.set_title('DT')"
      ],
      "execution_count": 87,
      "outputs": [
        {
          "output_type": "execute_result",
          "data": {
            "text/plain": [
              "Text(0.5, 1.0, 'DT')"
            ]
          },
          "metadata": {
            "tags": []
          },
          "execution_count": 87
        },
        {
          "output_type": "display_data",
          "data": {
            "text/plain": [
              "<Figure size 432x288 with 0 Axes>"
            ]
          },
          "metadata": {
            "tags": []
          }
        },
        {
          "output_type": "display_data",
          "data": {
            "image/png": "[encoded data removed]",
            "text/plain": [
              "<Figure size 432x288 with 1 Axes>"
            ]
          },
          "metadata": {
            "tags": []
          }
        },
        {
          "output_type": "display_data",
          "data": {
            "image/png": "[encoded data removed]",
            "text/plain": [
              "<Figure size 432x288 with 1 Axes>"
            ]
          },
          "metadata": {
            "tags": []
          }
        },
        {
          "output_type": "display_data",
          "data": {
            "image/png": "[encoded data removed]",
            "text/plain": [
              "<Figure size 432x288 with 1 Axes>"
            ]
          },
          "metadata": {
            "tags": []
          }
        }
      ]
    },
    {
      "cell_type": "code",
      "metadata": {
        "id": "Qtk9Y56THtNg",
        "colab_type": "code",
        "outputId": "0f8a7aa1-05ba-4232-ed66-b40b481b354c",
        "colab": {
          "base_uri": "https://localhost:8080/",
          "height": 34
        }
      },
      "source": [
        "\n",
        "#RF\n",
        "rf = RandomForestClassifier()\n",
        "rf.fit(X_train,y_train)\n",
        "rf_prediction=rf.predict(X_test)\n",
        "accuracy_rf=accuracy_score(y_test,rf_prediction)\n",
        "print(\"Accuracy (%): \"+str(accuracy_rf))\n",
        "\n",
        "\n",
        "#confusion matrix\n",
        "cnf_matrix = confusion_matrix(y_test, rf_prediction)\n",
        "\n",
        "FP = cnf_matrix.sum(axis=0) - np.diag(cnf_matrix)  \n",
        "FN = cnf_matrix.sum(axis=1) - np.diag(cnf_matrix)\n",
        "TP = np.diag(cnf_matrix)\n",
        "TN = cnf_matrix.sum() - (FP + FN + TP)\n",
        "\n",
        "\n",
        "FP = FP.astype(float)\n",
        "FN = FN.astype(float)\n",
        "TP = TP.astype(float)\n",
        "TN = TN.astype(float)\n",
        "\n",
        "# Sensitivity, hit rate, recall, or true positive rate\n",
        "TPR = TP/(TP+FN)\n",
        "# Specificity or true negative rate\n",
        "TNR = TN/(TN+FP) \n",
        "# Precision or positive predictive value\n",
        "PPV = TP/(TP+FP)\n",
        "# Negative predictive value\n",
        "NPV = TN/(TN+FN)\n",
        "# Fall out or false positive rate\n",
        "FPR = FP/(FP+TN)\n",
        "# False negative rate\n",
        "FNR = FN/(TP+FN)\n",
        "# False discovery rate\n",
        "FDR = FP/(TP+FP)\n",
        "# Overall accuracy\n",
        "ACC = (TP+TN)/(TP+FP+FN+TN)\n"
      ],
      "execution_count": 90,
      "outputs": [
        {
          "output_type": "stream",
          "text": [
            "Accuracy (%): 0.8956689300789136\n"
          ],
          "name": "stdout"
        }
      ]
    },
    {
      "cell_type": "code",
      "metadata": {
        "id": "MVDB63b8T6oP",
        "colab_type": "code",
        "colab": {
          "base_uri": "https://localhost:8080/",
          "height": 948
        },
        "outputId": "bcac907e-6c44-43d0-9817-d95b098e9f63"
      },
      "source": [
        "buses = ('Bus1', 'Bus2', 'Bus3', 'Bus4', 'Bus4','Bus5','Bus6','Bus7','Bus8','Bus9')\n",
        "y_pos = np.arange(len(buses)-1)\n",
        "fig = plt.figure()\n",
        "\n",
        "ACC_results = [j *100 for j in ACC]\n",
        "pmd_results=[j *100 for j in pmd]\n",
        "pf_results=[j *100 for j in pf]\n",
        "\n",
        "fig = plt.figure()\n",
        "fig.subplots_adjust( right=3, top=1)\n",
        "ax = fig.add_subplot(1, 3, i)\n",
        "ax.bar(y_pos, ACC_results, align='center', alpha=0.8, color='b')\n",
        "ax.set_xticks(np.arange(len(buses)))\n",
        "ax.set_xticklabels(('Bus1', 'Bus2', 'Bus3', 'Bus4','Bus5','Bus6','Bus7','Bus8','Bus9'), minor=False)\n",
        "ax.set_ylabel('Accuracy (%)')\n",
        "ax.set_title('RF')\n",
        "\n",
        "\n",
        "fig = plt.figure()\n",
        "fig.subplots_adjust( right=3, top=1)\n",
        "ax = fig.add_subplot(1, 3, i)\n",
        "ax.bar(y_pos, pmd_results, align='center', alpha=0.8, color='y')\n",
        "ax.set_xticks(np.arange(len(buses)))\n",
        "ax.set_xticklabels(('Bus1', 'Bus2', 'Bus3', 'Bus4','Bus5','Bus6','Bus7','Bus8','Bus9'), minor=False)\n",
        "ax.set_ylabel('Probability of miss detection (%)')\n",
        "ax.set_title('RF')\n",
        "\n",
        "fig = plt.figure()\n",
        "fig.subplots_adjust( right=3, top=1)\n",
        "ax = fig.add_subplot(1, 3, i)\n",
        "ax.bar(y_pos, pf_results, align='center', alpha=0.8, color='g')\n",
        "ax.set_xticks(np.arange(len(buses)))\n",
        "ax.set_xticklabels(('Bus1', 'Bus2', 'Bus3', 'Bus4','Bus5','Bus6','Bus7','Bus8','Bus9'), minor=False)\n",
        "ax.set_ylabel('Probability of false alarm (%)')\n",
        "ax.set_title('RF')"
      ],
      "execution_count": 91,
      "outputs": [
        {
          "output_type": "execute_result",
          "data": {
            "text/plain": [
              "Text(0.5, 1.0, 'RF')"
            ]
          },
          "metadata": {
            "tags": []
          },
          "execution_count": 91
        },
        {
          "output_type": "display_data",
          "data": {
            "text/plain": [
              "<Figure size 432x288 with 0 Axes>"
            ]
          },
          "metadata": {
            "tags": []
          }
        },
        {
          "output_type": "display_data",
          "data": {
            "image/png": "[encoded data removed]",
            "text/plain": [
              "<Figure size 432x288 with 1 Axes>"
            ]
          },
          "metadata": {
            "tags": []
          }
        },
        {
          "output_type": "display_data",
          "data": {
            "image/png": "[encoded data removed]",
            "text/plain": [
              "<Figure size 432x288 with 1 Axes>"
            ]
          },
          "metadata": {
            "tags": []
          }
        },
        {
          "output_type": "display_data",
          "data": {
            "image/png": "[encoded data removed]",
            "text/plain": [
              "<Figure size 432x288 with 1 Axes>"
            ]
          },
          "metadata": {
            "tags": []
          }
        }
      ]
    },
    {
      "cell_type": "code",
      "metadata": {
        "id": "qgw395oOOG9T",
        "colab_type": "code",
        "colab": {}
      },
      "source": [
        "!pip install -U git+https://github.com/scikit-multiflow/scikit-multiflow"
      ],
      "execution_count": 0,
      "outputs": []
    },
    {
      "cell_type": "code",
      "metadata": {
        "id": "XOqDU-sSMVa3",
        "colab_type": "code",
        "outputId": "df10a732-d6d4-447c-fb15-a22e19876090",
        "colab": {
          "base_uri": "https://localhost:8080/",
          "height": 128
        }
      },
      "source": [
        "#HT\n",
        "from skmultiflow.trees import RegressionHAT\n",
        "ht=RegressionHAT()\n",
        "ht.fit(X_train,y_train)\n",
        "ht_prediction=rf.predict(X_test)\n",
        "accuracy_ht=accuracy_score(y_test,ht_prediction)\n",
        "print(\"Accuracy (%): \"+str(accuracy_ht))\n",
        "\n",
        "\n",
        "#confusion matrix\n",
        "cnf_matrix = confusion_matrix(y_test, ht_prediction)\n",
        "\n",
        "FP = cnf_matrix.sum(axis=0) - np.diag(cnf_matrix)  \n",
        "FN = cnf_matrix.sum(axis=1) - np.diag(cnf_matrix)\n",
        "TP = np.diag(cnf_matrix)\n",
        "TN = cnf_matrix.sum() - (FP + FN + TP)\n",
        "\n",
        "\n",
        "FP = FP.astype(float)\n",
        "FN = FN.astype(float)\n",
        "TP = TP.astype(float)\n",
        "TN = TN.astype(float)\n",
        "\n",
        "# Sensitivity, hit rate, recall, or true positive rate\n",
        "TPR = TP/(TP+FN)\n",
        "# Specificity or true negative rate\n",
        "TNR = TN/(TN+FP) \n",
        "# Precision or positive predictive value\n",
        "PPV = TP/(TP+FP)\n",
        "# Negative predictive value\n",
        "NPV = TN/(TN+FN)\n",
        "# Fall out or false positive rate\n",
        "FPR = FP/(FP+TN)\n",
        "# False negative rate\n",
        "FNR = FN/(TP+FN)\n",
        "# False discovery rate\n",
        "FDR = FP/(TP+FP)\n",
        "# Overall accuracy\n",
        "ACC = (TP+TN)/(TP+FP+FN+TN)\n"
      ],
      "execution_count": 93,
      "outputs": [
        {
          "output_type": "stream",
          "text": [
            "/usr/local/lib/python3.6/dist-packages/skmultiflow/trees/hoeffding_adaptive_tree_regressor.py:20: FutureWarning: 'RegressionHAT' has been renamed to 'HoeffdingAdaptiveTreeRegressor' in v0.5.0.\n",
            "The old name will be removed in v0.7.0\n",
            "  \"The old name will be removed in v0.7.0\", category=FutureWarning)\n"
          ],
          "name": "stderr"
        },
        {
          "output_type": "stream",
          "text": [
            "Accuracy (%): 0.8956689300789136\n"
          ],
          "name": "stdout"
        }
      ]
    },
    {
      "cell_type": "code",
      "metadata": {
        "id": "OY1A0hOCUWMP",
        "colab_type": "code",
        "colab": {
          "base_uri": "https://localhost:8080/",
          "height": 948
        },
        "outputId": "cff578ff-d37c-4d69-afdf-36c727fa40a5"
      },
      "source": [
        "buses = ('Bus1', 'Bus2', 'Bus3', 'Bus4', 'Bus4','Bus5','Bus6','Bus7','Bus8','Bus9')\n",
        "y_pos = np.arange(len(buses)-1)\n",
        "fig = plt.figure()\n",
        "\n",
        "ACC_results = [j *100 for j in ACC]\n",
        "pmd_results=[j *100 for j in pmd]\n",
        "pf_results=[j *100 for j in pf]\n",
        "\n",
        "fig = plt.figure()\n",
        "fig.subplots_adjust( right=3, top=1)\n",
        "ax = fig.add_subplot(1, 3, i)\n",
        "ax.bar(y_pos, ACC_results, align='center', alpha=0.8, color='b')\n",
        "ax.set_xticks(np.arange(len(buses)))\n",
        "ax.set_xticklabels(('Bus1', 'Bus2', 'Bus3', 'Bus4','Bus5','Bus6','Bus7','Bus8','Bus9'), minor=False)\n",
        "ax.set_ylabel('Accuracy (%)')\n",
        "ax.set_title('HT')\n",
        "\n",
        "\n",
        "fig = plt.figure()\n",
        "fig.subplots_adjust( right=3, top=1)\n",
        "ax = fig.add_subplot(1, 3, i)\n",
        "ax.bar(y_pos, pmd_results, align='center', alpha=0.8, color='y')\n",
        "ax.set_xticks(np.arange(len(buses)))\n",
        "ax.set_xticklabels(('Bus1', 'Bus2', 'Bus3', 'Bus4','Bus5','Bus6','Bus7','Bus8','Bus9'), minor=False)\n",
        "ax.set_ylabel('Probability of miss detection (%)')\n",
        "ax.set_title('HT')\n",
        "\n",
        "fig = plt.figure()\n",
        "fig.subplots_adjust( right=3, top=1)\n",
        "ax = fig.add_subplot(1, 3, i)\n",
        "ax.bar(y_pos, pf_results, align='center', alpha=0.8, color='g')\n",
        "ax.set_xticks(np.arange(len(buses)))\n",
        "ax.set_xticklabels(('Bus1', 'Bus2', 'Bus3', 'Bus4','Bus5','Bus6','Bus7','Bus8','Bus9'), minor=False)\n",
        "ax.set_ylabel('Probability of false alarm (%)')\n",
        "ax.set_title('HT')"
      ],
      "execution_count": 94,
      "outputs": [
        {
          "output_type": "execute_result",
          "data": {
            "text/plain": [
              "Text(0.5, 1.0, 'HT')"
            ]
          },
          "metadata": {
            "tags": []
          },
          "execution_count": 94
        },
        {
          "output_type": "display_data",
          "data": {
            "text/plain": [
              "<Figure size 432x288 with 0 Axes>"
            ]
          },
          "metadata": {
            "tags": []
          }
        },
        {
          "output_type": "display_data",
          "data": {
            "image/png": "[encoded data removed]",
            "text/plain": [
              "<Figure size 432x288 with 1 Axes>"
            ]
          },
          "metadata": {
            "tags": []
          }
        },
        {
          "output_type": "display_data",
          "data": {
            "image/png": "[encoded data removed]",
            "text/plain": [
              "<Figure size 432x288 with 1 Axes>"
            ]
          },
          "metadata": {
            "tags": []
          }
        },
        {
          "output_type": "display_data",
          "data": {
            "image/png": "[encoded data removed]",
            "text/plain": [
              "<Figure size 432x288 with 1 Axes>"
            ]
          },
          "metadata": {
            "tags": []
          }
        }
      ]
    }
  ]
}